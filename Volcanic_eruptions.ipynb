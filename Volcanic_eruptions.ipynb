{
 "cells": [
  {
   "cell_type": "markdown",
   "id": "324503ed",
   "metadata": {},
   "source": [
    "# Volcanic eruptions project"
   ]
  },
  {
   "cell_type": "markdown",
   "id": "8792db9b",
   "metadata": {},
   "source": [
    "The idea of this notebook is not to just do a simplistic EDA, or to develop the best Machine Learning model there is. The idea of this notebook is to dive deep into as much detail as possible. In order to achieve this I will be working in a <font face='Arial' color='red'>curiosity-based manner.\n",
    "</font>\n"
   ]
  },
  {
   "cell_type": "markdown",
   "id": "db1cb424",
   "metadata": {},
   "source": [
    "What would a 'Curiosity-based' way of working look like you might ask. The process is simple. I will start off by doing a very general exploratory analysis: variable types, dataframe size, general statistics and missing values. As I do so, I will inevitably have one or more questions about the outputs that I am seeing. Instead of ignoring the question I will shift my focus to it and try to answer it. As the answer to my question is revealed, another question will appear. And so the cycle will repeat itself until I decide to stop asking questions to the data"
   ]
  },
  {
   "cell_type": "markdown",
   "id": "07553c23",
   "metadata": {},
   "source": [
    "A few disclaimer notes on this project:\n",
    "- This project is just for fun, and there might be a bunch of lines of code that could have been written differently\n",
    "- The dataset is not the best dataset there is out there. There even was another dataset from Kaggle on volcanic eruptions which was much cleaner than this one. However, I decided to go for the not-so-clean one to challenge myself"
   ]
  },
  {
   "cell_type": "markdown",
   "id": "f533fded",
   "metadata": {},
   "source": [
    "I hope you enjoy reading this notebook as much as I have enjoyed creating it. Lets start:"
   ]
  },
  {
   "cell_type": "markdown",
   "id": "59ed4587",
   "metadata": {},
   "source": [
    "# Importing dependencies"
   ]
  },
  {
   "cell_type": "code",
   "execution_count": 1,
   "id": "0ffc7ab6",
   "metadata": {
    "scrolled": true
   },
   "outputs": [
    {
     "name": "stdout",
     "output_type": "stream",
     "text": [
      "Requirement already satisfied: folium in c:\\users\\manul\\anaconda3\\lib\\site-packages (0.16.0)\n",
      "Requirement already satisfied: branca>=0.6.0 in c:\\users\\manul\\anaconda3\\lib\\site-packages (from folium) (0.7.1)\n",
      "Requirement already satisfied: jinja2>=2.9 in c:\\users\\manul\\anaconda3\\lib\\site-packages (from folium) (3.1.2)\n",
      "Requirement already satisfied: numpy in c:\\users\\manul\\anaconda3\\lib\\site-packages (from folium) (1.23.5)\n",
      "Requirement already satisfied: requests in c:\\users\\manul\\anaconda3\\lib\\site-packages (from folium) (2.28.1)\n",
      "Requirement already satisfied: xyzservices in c:\\users\\manul\\anaconda3\\lib\\site-packages (from folium) (2023.10.1)\n",
      "Requirement already satisfied: MarkupSafe>=2.0 in c:\\users\\manul\\anaconda3\\lib\\site-packages (from jinja2>=2.9->folium) (2.1.1)\n",
      "Requirement already satisfied: charset-normalizer<3,>=2 in c:\\users\\manul\\anaconda3\\lib\\site-packages (from requests->folium) (2.0.4)\n",
      "Requirement already satisfied: idna<4,>=2.5 in c:\\users\\manul\\anaconda3\\lib\\site-packages (from requests->folium) (3.4)\n",
      "Requirement already satisfied: urllib3<1.27,>=1.21.1 in c:\\users\\manul\\anaconda3\\lib\\site-packages (from requests->folium) (1.26.14)\n",
      "Requirement already satisfied: certifi>=2017.4.17 in c:\\users\\manul\\anaconda3\\lib\\site-packages (from requests->folium) (2023.5.7)\n"
     ]
    },
    {
     "name": "stderr",
     "output_type": "stream",
     "text": [
      "\n",
      "[notice] A new release of pip is available: 23.1.2 -> 24.0\n",
      "[notice] To update, run: python.exe -m pip install --upgrade pip\n"
     ]
    }
   ],
   "source": [
    "import warnings\n",
    "warnings.filterwarnings(\"ignore\")\n",
    "!pip install folium"
   ]
  },
  {
   "cell_type": "code",
   "execution_count": 2,
   "id": "0b930c76",
   "metadata": {},
   "outputs": [],
   "source": [
    "import pandas as pd\n",
    "import numpy as np\n",
    "import matplotlib.pyplot as plt\n",
    "import seaborn as sns"
   ]
  },
  {
   "cell_type": "code",
   "execution_count": 3,
   "id": "23fa7080",
   "metadata": {},
   "outputs": [],
   "source": [
    "df = pd.read_csv('C:/Users/manul/OneDrive/Escritorio/Analytics/volcano-events.csv')"
   ]
  },
  {
   "cell_type": "markdown",
   "id": "9e6522b2",
   "metadata": {},
   "source": [
    "# General EDA on dataset"
   ]
  },
  {
   "cell_type": "code",
   "execution_count": 4,
   "id": "9124c265",
   "metadata": {},
   "outputs": [
    {
     "data": {
      "text/html": [
       "<div>\n",
       "<style scoped>\n",
       "    .dataframe tbody tr th:only-of-type {\n",
       "        vertical-align: middle;\n",
       "    }\n",
       "\n",
       "    .dataframe tbody tr th {\n",
       "        vertical-align: top;\n",
       "    }\n",
       "\n",
       "    .dataframe thead th {\n",
       "        text-align: right;\n",
       "    }\n",
       "</style>\n",
       "<table border=\"1\" class=\"dataframe\">\n",
       "  <thead>\n",
       "    <tr style=\"text-align: right;\">\n",
       "      <th></th>\n",
       "      <th>Year</th>\n",
       "      <th>Month</th>\n",
       "      <th>Day</th>\n",
       "      <th>Name</th>\n",
       "      <th>Location</th>\n",
       "      <th>Country</th>\n",
       "      <th>Latitude</th>\n",
       "      <th>Longitude</th>\n",
       "      <th>Elevation (m)</th>\n",
       "      <th>Type</th>\n",
       "      <th>...</th>\n",
       "      <th>Total Deaths</th>\n",
       "      <th>Total Death Description</th>\n",
       "      <th>Total Missing</th>\n",
       "      <th>Total Missing Description</th>\n",
       "      <th>Total Injuries</th>\n",
       "      <th>Total Injuries Description</th>\n",
       "      <th>Total Damage ($Mil)</th>\n",
       "      <th>Total Damage Description</th>\n",
       "      <th>Total Houses Destroyed</th>\n",
       "      <th>Total Houses Destroyed Description</th>\n",
       "    </tr>\n",
       "  </thead>\n",
       "  <tbody>\n",
       "    <tr>\n",
       "      <th>0</th>\n",
       "      <td>NaN</td>\n",
       "      <td>NaN</td>\n",
       "      <td>NaN</td>\n",
       "      <td>NaN</td>\n",
       "      <td>NaN</td>\n",
       "      <td>NaN</td>\n",
       "      <td>NaN</td>\n",
       "      <td>NaN</td>\n",
       "      <td>NaN</td>\n",
       "      <td>NaN</td>\n",
       "      <td>...</td>\n",
       "      <td>NaN</td>\n",
       "      <td>NaN</td>\n",
       "      <td>NaN</td>\n",
       "      <td>NaN</td>\n",
       "      <td>NaN</td>\n",
       "      <td>NaN</td>\n",
       "      <td>NaN</td>\n",
       "      <td>NaN</td>\n",
       "      <td>NaN</td>\n",
       "      <td>NaN</td>\n",
       "    </tr>\n",
       "    <tr>\n",
       "      <th>1</th>\n",
       "      <td>-4360.0</td>\n",
       "      <td>NaN</td>\n",
       "      <td>NaN</td>\n",
       "      <td>Macauley</td>\n",
       "      <td>Kermadec Is</td>\n",
       "      <td>New Zealand</td>\n",
       "      <td>-30.210</td>\n",
       "      <td>-178.475</td>\n",
       "      <td>238.0</td>\n",
       "      <td>Caldera</td>\n",
       "      <td>...</td>\n",
       "      <td>NaN</td>\n",
       "      <td>NaN</td>\n",
       "      <td>NaN</td>\n",
       "      <td>NaN</td>\n",
       "      <td>NaN</td>\n",
       "      <td>NaN</td>\n",
       "      <td>NaN</td>\n",
       "      <td>NaN</td>\n",
       "      <td>NaN</td>\n",
       "      <td>NaN</td>\n",
       "    </tr>\n",
       "    <tr>\n",
       "      <th>2</th>\n",
       "      <td>-4350.0</td>\n",
       "      <td>NaN</td>\n",
       "      <td>NaN</td>\n",
       "      <td>Kikai</td>\n",
       "      <td>Ryukyu Is</td>\n",
       "      <td>Japan</td>\n",
       "      <td>30.793</td>\n",
       "      <td>130.305</td>\n",
       "      <td>704.0</td>\n",
       "      <td>Caldera</td>\n",
       "      <td>...</td>\n",
       "      <td>NaN</td>\n",
       "      <td>3.0</td>\n",
       "      <td>NaN</td>\n",
       "      <td>NaN</td>\n",
       "      <td>NaN</td>\n",
       "      <td>NaN</td>\n",
       "      <td>NaN</td>\n",
       "      <td>3.0</td>\n",
       "      <td>NaN</td>\n",
       "      <td>3.0</td>\n",
       "    </tr>\n",
       "    <tr>\n",
       "      <th>3</th>\n",
       "      <td>-4050.0</td>\n",
       "      <td>NaN</td>\n",
       "      <td>NaN</td>\n",
       "      <td>Masaya</td>\n",
       "      <td>Nicaragua</td>\n",
       "      <td>Nicaragua</td>\n",
       "      <td>11.985</td>\n",
       "      <td>-86.165</td>\n",
       "      <td>594.0</td>\n",
       "      <td>Caldera</td>\n",
       "      <td>...</td>\n",
       "      <td>NaN</td>\n",
       "      <td>NaN</td>\n",
       "      <td>NaN</td>\n",
       "      <td>NaN</td>\n",
       "      <td>NaN</td>\n",
       "      <td>NaN</td>\n",
       "      <td>NaN</td>\n",
       "      <td>NaN</td>\n",
       "      <td>NaN</td>\n",
       "      <td>NaN</td>\n",
       "    </tr>\n",
       "    <tr>\n",
       "      <th>4</th>\n",
       "      <td>-4000.0</td>\n",
       "      <td>NaN</td>\n",
       "      <td>NaN</td>\n",
       "      <td>Witori</td>\n",
       "      <td>New Britain-SW Pac</td>\n",
       "      <td>Papua New Guinea</td>\n",
       "      <td>-5.576</td>\n",
       "      <td>150.516</td>\n",
       "      <td>724.0</td>\n",
       "      <td>Caldera</td>\n",
       "      <td>...</td>\n",
       "      <td>NaN</td>\n",
       "      <td>1.0</td>\n",
       "      <td>NaN</td>\n",
       "      <td>NaN</td>\n",
       "      <td>NaN</td>\n",
       "      <td>NaN</td>\n",
       "      <td>NaN</td>\n",
       "      <td>1.0</td>\n",
       "      <td>NaN</td>\n",
       "      <td>NaN</td>\n",
       "    </tr>\n",
       "  </tbody>\n",
       "</table>\n",
       "<p>5 rows × 32 columns</p>\n",
       "</div>"
      ],
      "text/plain": [
       "     Year  Month  Day      Name            Location           Country  \\\n",
       "0     NaN    NaN  NaN       NaN                 NaN               NaN   \n",
       "1 -4360.0    NaN  NaN  Macauley         Kermadec Is       New Zealand   \n",
       "2 -4350.0    NaN  NaN     Kikai           Ryukyu Is             Japan   \n",
       "3 -4050.0    NaN  NaN    Masaya           Nicaragua         Nicaragua   \n",
       "4 -4000.0    NaN  NaN    Witori  New Britain-SW Pac  Papua New Guinea   \n",
       "\n",
       "   Latitude  Longitude  Elevation (m)     Type  ...  Total Deaths  \\\n",
       "0       NaN        NaN            NaN      NaN  ...           NaN   \n",
       "1   -30.210   -178.475          238.0  Caldera  ...           NaN   \n",
       "2    30.793    130.305          704.0  Caldera  ...           NaN   \n",
       "3    11.985    -86.165          594.0  Caldera  ...           NaN   \n",
       "4    -5.576    150.516          724.0  Caldera  ...           NaN   \n",
       "\n",
       "  Total Death Description  Total Missing  Total Missing Description  \\\n",
       "0                     NaN            NaN                        NaN   \n",
       "1                     NaN            NaN                        NaN   \n",
       "2                     3.0            NaN                        NaN   \n",
       "3                     NaN            NaN                        NaN   \n",
       "4                     1.0            NaN                        NaN   \n",
       "\n",
       "   Total Injuries  Total Injuries Description  Total Damage ($Mil)  \\\n",
       "0             NaN                         NaN                  NaN   \n",
       "1             NaN                         NaN                  NaN   \n",
       "2             NaN                         NaN                  NaN   \n",
       "3             NaN                         NaN                  NaN   \n",
       "4             NaN                         NaN                  NaN   \n",
       "\n",
       "   Total Damage Description  Total Houses Destroyed  \\\n",
       "0                       NaN                     NaN   \n",
       "1                       NaN                     NaN   \n",
       "2                       3.0                     NaN   \n",
       "3                       NaN                     NaN   \n",
       "4                       1.0                     NaN   \n",
       "\n",
       "   Total Houses Destroyed Description  \n",
       "0                                 NaN  \n",
       "1                                 NaN  \n",
       "2                                 3.0  \n",
       "3                                 NaN  \n",
       "4                                 NaN  \n",
       "\n",
       "[5 rows x 32 columns]"
      ]
     },
     "execution_count": 4,
     "metadata": {},
     "output_type": "execute_result"
    }
   ],
   "source": [
    "df.head()"
   ]
  },
  {
   "cell_type": "code",
   "execution_count": 5,
   "id": "1c6166c0",
   "metadata": {},
   "outputs": [
    {
     "data": {
      "text/plain": [
       "(877, 32)"
      ]
     },
     "execution_count": 5,
     "metadata": {},
     "output_type": "execute_result"
    }
   ],
   "source": [
    "df.shape"
   ]
  },
  {
   "cell_type": "code",
   "execution_count": 6,
   "id": "666b5f3b",
   "metadata": {},
   "outputs": [
    {
     "name": "stdout",
     "output_type": "stream",
     "text": [
      "<class 'pandas.core.frame.DataFrame'>\n",
      "RangeIndex: 877 entries, 0 to 876\n",
      "Data columns (total 32 columns):\n",
      " #   Column                              Non-Null Count  Dtype  \n",
      "---  ------                              --------------  -----  \n",
      " 0   Year                                876 non-null    float64\n",
      " 1   Month                               745 non-null    float64\n",
      " 2   Day                                 685 non-null    float64\n",
      " 3   Name                                876 non-null    object \n",
      " 4   Location                            876 non-null    object \n",
      " 5   Country                             876 non-null    object \n",
      " 6   Latitude                            876 non-null    float64\n",
      " 7   Longitude                           876 non-null    float64\n",
      " 8   Elevation (m)                       876 non-null    float64\n",
      " 9   Type                                876 non-null    object \n",
      " 10  VEI                                 701 non-null    float64\n",
      " 11  Agent                               514 non-null    object \n",
      " 12  Deaths                              440 non-null    float64\n",
      " 13  Death Description                   568 non-null    float64\n",
      " 14  Missing                             11 non-null     float64\n",
      " 15  Missing Description                 13 non-null     float64\n",
      " 16  Injuries                            99 non-null     float64\n",
      " 17  Injuries Description                123 non-null    float64\n",
      " 18  Damage ($Mil)                       21 non-null     float64\n",
      " 19  Damage Description                  245 non-null    float64\n",
      " 20  Houses Destroyed                    44 non-null     float64\n",
      " 21  Houses Destroyed Description        122 non-null    float64\n",
      " 22  Total Deaths                        462 non-null    float64\n",
      " 23  Total Death Description             594 non-null    float64\n",
      " 24  Total Missing                       11 non-null     float64\n",
      " 25  Total Missing Description           14 non-null     float64\n",
      " 26  Total Injuries                      102 non-null    float64\n",
      " 27  Total Injuries Description          132 non-null    float64\n",
      " 28  Total Damage ($Mil)                 26 non-null     float64\n",
      " 29  Total Damage Description            265 non-null    float64\n",
      " 30  Total Houses Destroyed              53 non-null     float64\n",
      " 31  Total Houses Destroyed Description  149 non-null    float64\n",
      "dtypes: float64(27), object(5)\n",
      "memory usage: 219.4+ KB\n"
     ]
    }
   ],
   "source": [
    "df.info()"
   ]
  },
  {
   "cell_type": "code",
   "execution_count": 7,
   "id": "e1b2fc36",
   "metadata": {
    "scrolled": true
   },
   "outputs": [
    {
     "data": {
      "text/html": [
       "<div>\n",
       "<style scoped>\n",
       "    .dataframe tbody tr th:only-of-type {\n",
       "        vertical-align: middle;\n",
       "    }\n",
       "\n",
       "    .dataframe tbody tr th {\n",
       "        vertical-align: top;\n",
       "    }\n",
       "\n",
       "    .dataframe thead th {\n",
       "        text-align: right;\n",
       "    }\n",
       "</style>\n",
       "<table border=\"1\" class=\"dataframe\">\n",
       "  <thead>\n",
       "    <tr style=\"text-align: right;\">\n",
       "      <th></th>\n",
       "      <th>Year</th>\n",
       "      <th>Month</th>\n",
       "      <th>Day</th>\n",
       "      <th>Latitude</th>\n",
       "      <th>Longitude</th>\n",
       "      <th>Elevation (m)</th>\n",
       "      <th>VEI</th>\n",
       "      <th>Deaths</th>\n",
       "      <th>Death Description</th>\n",
       "      <th>Missing</th>\n",
       "      <th>...</th>\n",
       "      <th>Total Deaths</th>\n",
       "      <th>Total Death Description</th>\n",
       "      <th>Total Missing</th>\n",
       "      <th>Total Missing Description</th>\n",
       "      <th>Total Injuries</th>\n",
       "      <th>Total Injuries Description</th>\n",
       "      <th>Total Damage ($Mil)</th>\n",
       "      <th>Total Damage Description</th>\n",
       "      <th>Total Houses Destroyed</th>\n",
       "      <th>Total Houses Destroyed Description</th>\n",
       "    </tr>\n",
       "  </thead>\n",
       "  <tbody>\n",
       "    <tr>\n",
       "      <th>count</th>\n",
       "      <td>876.000000</td>\n",
       "      <td>745.000000</td>\n",
       "      <td>685.000000</td>\n",
       "      <td>876.000000</td>\n",
       "      <td>876.000000</td>\n",
       "      <td>876.000000</td>\n",
       "      <td>701.000000</td>\n",
       "      <td>440.000000</td>\n",
       "      <td>568.000000</td>\n",
       "      <td>11.000000</td>\n",
       "      <td>...</td>\n",
       "      <td>462.000000</td>\n",
       "      <td>594.000000</td>\n",
       "      <td>11.000000</td>\n",
       "      <td>14.000000</td>\n",
       "      <td>102.000000</td>\n",
       "      <td>132.000000</td>\n",
       "      <td>26.000000</td>\n",
       "      <td>265.000000</td>\n",
       "      <td>53.000000</td>\n",
       "      <td>149.000000</td>\n",
       "    </tr>\n",
       "    <tr>\n",
       "      <th>mean</th>\n",
       "      <td>1730.413242</td>\n",
       "      <td>6.442953</td>\n",
       "      <td>15.274453</td>\n",
       "      <td>15.083737</td>\n",
       "      <td>52.822393</td>\n",
       "      <td>1956.087900</td>\n",
       "      <td>2.864479</td>\n",
       "      <td>441.675000</td>\n",
       "      <td>1.558099</td>\n",
       "      <td>340.090909</td>\n",
       "      <td>...</td>\n",
       "      <td>722.826840</td>\n",
       "      <td>1.612795</td>\n",
       "      <td>340.909091</td>\n",
       "      <td>2.000000</td>\n",
       "      <td>488.039216</td>\n",
       "      <td>1.500000</td>\n",
       "      <td>198.078154</td>\n",
       "      <td>1.784906</td>\n",
       "      <td>1008.396226</td>\n",
       "      <td>2.208054</td>\n",
       "    </tr>\n",
       "    <tr>\n",
       "      <th>std</th>\n",
       "      <td>717.583467</td>\n",
       "      <td>3.350458</td>\n",
       "      <td>9.086685</td>\n",
       "      <td>25.722580</td>\n",
       "      <td>101.185489</td>\n",
       "      <td>1257.480788</td>\n",
       "      <td>1.301716</td>\n",
       "      <td>2421.846221</td>\n",
       "      <td>0.966897</td>\n",
       "      <td>642.860864</td>\n",
       "      <td>...</td>\n",
       "      <td>4137.443373</td>\n",
       "      <td>1.003319</td>\n",
       "      <td>642.391696</td>\n",
       "      <td>1.176697</td>\n",
       "      <td>3303.758879</td>\n",
       "      <td>0.860499</td>\n",
       "      <td>425.089307</td>\n",
       "      <td>0.978441</td>\n",
       "      <td>1891.905941</td>\n",
       "      <td>1.060820</td>\n",
       "    </tr>\n",
       "    <tr>\n",
       "      <th>min</th>\n",
       "      <td>-4360.000000</td>\n",
       "      <td>1.000000</td>\n",
       "      <td>1.000000</td>\n",
       "      <td>-63.001000</td>\n",
       "      <td>-178.475000</td>\n",
       "      <td>-642.000000</td>\n",
       "      <td>0.000000</td>\n",
       "      <td>1.000000</td>\n",
       "      <td>1.000000</td>\n",
       "      <td>0.000000</td>\n",
       "      <td>...</td>\n",
       "      <td>1.000000</td>\n",
       "      <td>1.000000</td>\n",
       "      <td>0.000000</td>\n",
       "      <td>1.000000</td>\n",
       "      <td>1.000000</td>\n",
       "      <td>1.000000</td>\n",
       "      <td>1.000000</td>\n",
       "      <td>1.000000</td>\n",
       "      <td>1.000000</td>\n",
       "      <td>1.000000</td>\n",
       "    </tr>\n",
       "    <tr>\n",
       "      <th>25%</th>\n",
       "      <td>1799.250000</td>\n",
       "      <td>4.000000</td>\n",
       "      <td>7.000000</td>\n",
       "      <td>-6.729500</td>\n",
       "      <td>-19.666000</td>\n",
       "      <td>1117.000000</td>\n",
       "      <td>2.000000</td>\n",
       "      <td>1.000000</td>\n",
       "      <td>1.000000</td>\n",
       "      <td>2.500000</td>\n",
       "      <td>...</td>\n",
       "      <td>2.000000</td>\n",
       "      <td>1.000000</td>\n",
       "      <td>6.000000</td>\n",
       "      <td>1.000000</td>\n",
       "      <td>3.000000</td>\n",
       "      <td>1.000000</td>\n",
       "      <td>3.673000</td>\n",
       "      <td>1.000000</td>\n",
       "      <td>24.000000</td>\n",
       "      <td>1.000000</td>\n",
       "    </tr>\n",
       "    <tr>\n",
       "      <th>50%</th>\n",
       "      <td>1922.000000</td>\n",
       "      <td>7.000000</td>\n",
       "      <td>15.000000</td>\n",
       "      <td>13.257000</td>\n",
       "      <td>110.446000</td>\n",
       "      <td>1718.000000</td>\n",
       "      <td>3.000000</td>\n",
       "      <td>5.000000</td>\n",
       "      <td>1.000000</td>\n",
       "      <td>44.000000</td>\n",
       "      <td>...</td>\n",
       "      <td>6.000000</td>\n",
       "      <td>1.000000</td>\n",
       "      <td>44.000000</td>\n",
       "      <td>1.500000</td>\n",
       "      <td>11.000000</td>\n",
       "      <td>1.000000</td>\n",
       "      <td>19.500000</td>\n",
       "      <td>1.000000</td>\n",
       "      <td>164.000000</td>\n",
       "      <td>2.000000</td>\n",
       "    </tr>\n",
       "    <tr>\n",
       "      <th>75%</th>\n",
       "      <td>1986.000000</td>\n",
       "      <td>9.000000</td>\n",
       "      <td>23.000000</td>\n",
       "      <td>36.406000</td>\n",
       "      <td>130.862000</td>\n",
       "      <td>2640.250000</td>\n",
       "      <td>4.000000</td>\n",
       "      <td>48.250000</td>\n",
       "      <td>2.000000</td>\n",
       "      <td>174.500000</td>\n",
       "      <td>...</td>\n",
       "      <td>60.000000</td>\n",
       "      <td>2.000000</td>\n",
       "      <td>174.500000</td>\n",
       "      <td>3.000000</td>\n",
       "      <td>42.750000</td>\n",
       "      <td>2.000000</td>\n",
       "      <td>118.750000</td>\n",
       "      <td>3.000000</td>\n",
       "      <td>800.000000</td>\n",
       "      <td>3.000000</td>\n",
       "    </tr>\n",
       "    <tr>\n",
       "      <th>max</th>\n",
       "      <td>2023.000000</td>\n",
       "      <td>12.000000</td>\n",
       "      <td>31.000000</td>\n",
       "      <td>65.715000</td>\n",
       "      <td>177.180000</td>\n",
       "      <td>6377.000000</td>\n",
       "      <td>7.000000</td>\n",
       "      <td>30000.000000</td>\n",
       "      <td>4.000000</td>\n",
       "      <td>1755.000000</td>\n",
       "      <td>...</td>\n",
       "      <td>60000.000000</td>\n",
       "      <td>4.000000</td>\n",
       "      <td>1755.000000</td>\n",
       "      <td>4.000000</td>\n",
       "      <td>31943.000000</td>\n",
       "      <td>4.000000</td>\n",
       "      <td>2000.000000</td>\n",
       "      <td>4.000000</td>\n",
       "      <td>9000.000000</td>\n",
       "      <td>4.000000</td>\n",
       "    </tr>\n",
       "  </tbody>\n",
       "</table>\n",
       "<p>8 rows × 27 columns</p>\n",
       "</div>"
      ],
      "text/plain": [
       "              Year       Month         Day    Latitude   Longitude  \\\n",
       "count   876.000000  745.000000  685.000000  876.000000  876.000000   \n",
       "mean   1730.413242    6.442953   15.274453   15.083737   52.822393   \n",
       "std     717.583467    3.350458    9.086685   25.722580  101.185489   \n",
       "min   -4360.000000    1.000000    1.000000  -63.001000 -178.475000   \n",
       "25%    1799.250000    4.000000    7.000000   -6.729500  -19.666000   \n",
       "50%    1922.000000    7.000000   15.000000   13.257000  110.446000   \n",
       "75%    1986.000000    9.000000   23.000000   36.406000  130.862000   \n",
       "max    2023.000000   12.000000   31.000000   65.715000  177.180000   \n",
       "\n",
       "       Elevation (m)         VEI        Deaths  Death Description  \\\n",
       "count     876.000000  701.000000    440.000000         568.000000   \n",
       "mean     1956.087900    2.864479    441.675000           1.558099   \n",
       "std      1257.480788    1.301716   2421.846221           0.966897   \n",
       "min      -642.000000    0.000000      1.000000           1.000000   \n",
       "25%      1117.000000    2.000000      1.000000           1.000000   \n",
       "50%      1718.000000    3.000000      5.000000           1.000000   \n",
       "75%      2640.250000    4.000000     48.250000           2.000000   \n",
       "max      6377.000000    7.000000  30000.000000           4.000000   \n",
       "\n",
       "           Missing  ...  Total Deaths  Total Death Description  Total Missing  \\\n",
       "count    11.000000  ...    462.000000               594.000000      11.000000   \n",
       "mean    340.090909  ...    722.826840                 1.612795     340.909091   \n",
       "std     642.860864  ...   4137.443373                 1.003319     642.391696   \n",
       "min       0.000000  ...      1.000000                 1.000000       0.000000   \n",
       "25%       2.500000  ...      2.000000                 1.000000       6.000000   \n",
       "50%      44.000000  ...      6.000000                 1.000000      44.000000   \n",
       "75%     174.500000  ...     60.000000                 2.000000     174.500000   \n",
       "max    1755.000000  ...  60000.000000                 4.000000    1755.000000   \n",
       "\n",
       "       Total Missing Description  Total Injuries  Total Injuries Description  \\\n",
       "count                  14.000000      102.000000                  132.000000   \n",
       "mean                    2.000000      488.039216                    1.500000   \n",
       "std                     1.176697     3303.758879                    0.860499   \n",
       "min                     1.000000        1.000000                    1.000000   \n",
       "25%                     1.000000        3.000000                    1.000000   \n",
       "50%                     1.500000       11.000000                    1.000000   \n",
       "75%                     3.000000       42.750000                    2.000000   \n",
       "max                     4.000000    31943.000000                    4.000000   \n",
       "\n",
       "       Total Damage ($Mil)  Total Damage Description  Total Houses Destroyed  \\\n",
       "count            26.000000                265.000000               53.000000   \n",
       "mean            198.078154                  1.784906             1008.396226   \n",
       "std             425.089307                  0.978441             1891.905941   \n",
       "min               1.000000                  1.000000                1.000000   \n",
       "25%               3.673000                  1.000000               24.000000   \n",
       "50%              19.500000                  1.000000              164.000000   \n",
       "75%             118.750000                  3.000000              800.000000   \n",
       "max            2000.000000                  4.000000             9000.000000   \n",
       "\n",
       "       Total Houses Destroyed Description  \n",
       "count                          149.000000  \n",
       "mean                             2.208054  \n",
       "std                              1.060820  \n",
       "min                              1.000000  \n",
       "25%                              1.000000  \n",
       "50%                              2.000000  \n",
       "75%                              3.000000  \n",
       "max                              4.000000  \n",
       "\n",
       "[8 rows x 27 columns]"
      ]
     },
     "execution_count": 7,
     "metadata": {},
     "output_type": "execute_result"
    }
   ],
   "source": [
    "df.describe()"
   ]
  },
  {
   "cell_type": "code",
   "execution_count": 8,
   "id": "cb4420e8",
   "metadata": {},
   "outputs": [],
   "source": [
    "# Dropping rows where every single field is a null value since these are virtually worthless\n",
    "df = df.dropna(axis = 0, how = 'all')"
   ]
  },
  {
   "cell_type": "code",
   "execution_count": 9,
   "id": "482e7cb8",
   "metadata": {},
   "outputs": [
    {
     "data": {
      "text/html": [
       "<div>\n",
       "<style scoped>\n",
       "    .dataframe tbody tr th:only-of-type {\n",
       "        vertical-align: middle;\n",
       "    }\n",
       "\n",
       "    .dataframe tbody tr th {\n",
       "        vertical-align: top;\n",
       "    }\n",
       "\n",
       "    .dataframe thead th {\n",
       "        text-align: right;\n",
       "    }\n",
       "</style>\n",
       "<table border=\"1\" class=\"dataframe\">\n",
       "  <thead>\n",
       "    <tr style=\"text-align: right;\">\n",
       "      <th></th>\n",
       "      <th>Number of nulls</th>\n",
       "      <th>Percentage of nulls</th>\n",
       "    </tr>\n",
       "  </thead>\n",
       "  <tbody>\n",
       "    <tr>\n",
       "      <th>Year</th>\n",
       "      <td>0</td>\n",
       "      <td>0.000000</td>\n",
       "    </tr>\n",
       "    <tr>\n",
       "      <th>Month</th>\n",
       "      <td>131</td>\n",
       "      <td>14.954338</td>\n",
       "    </tr>\n",
       "    <tr>\n",
       "      <th>Day</th>\n",
       "      <td>191</td>\n",
       "      <td>21.803653</td>\n",
       "    </tr>\n",
       "    <tr>\n",
       "      <th>Name</th>\n",
       "      <td>0</td>\n",
       "      <td>0.000000</td>\n",
       "    </tr>\n",
       "    <tr>\n",
       "      <th>Location</th>\n",
       "      <td>0</td>\n",
       "      <td>0.000000</td>\n",
       "    </tr>\n",
       "    <tr>\n",
       "      <th>Country</th>\n",
       "      <td>0</td>\n",
       "      <td>0.000000</td>\n",
       "    </tr>\n",
       "    <tr>\n",
       "      <th>Latitude</th>\n",
       "      <td>0</td>\n",
       "      <td>0.000000</td>\n",
       "    </tr>\n",
       "    <tr>\n",
       "      <th>Longitude</th>\n",
       "      <td>0</td>\n",
       "      <td>0.000000</td>\n",
       "    </tr>\n",
       "    <tr>\n",
       "      <th>Elevation (m)</th>\n",
       "      <td>0</td>\n",
       "      <td>0.000000</td>\n",
       "    </tr>\n",
       "    <tr>\n",
       "      <th>Type</th>\n",
       "      <td>0</td>\n",
       "      <td>0.000000</td>\n",
       "    </tr>\n",
       "    <tr>\n",
       "      <th>VEI</th>\n",
       "      <td>175</td>\n",
       "      <td>19.977169</td>\n",
       "    </tr>\n",
       "    <tr>\n",
       "      <th>Agent</th>\n",
       "      <td>362</td>\n",
       "      <td>41.324201</td>\n",
       "    </tr>\n",
       "    <tr>\n",
       "      <th>Deaths</th>\n",
       "      <td>436</td>\n",
       "      <td>49.771689</td>\n",
       "    </tr>\n",
       "    <tr>\n",
       "      <th>Death Description</th>\n",
       "      <td>308</td>\n",
       "      <td>35.159817</td>\n",
       "    </tr>\n",
       "    <tr>\n",
       "      <th>Missing</th>\n",
       "      <td>865</td>\n",
       "      <td>98.744292</td>\n",
       "    </tr>\n",
       "    <tr>\n",
       "      <th>Missing Description</th>\n",
       "      <td>863</td>\n",
       "      <td>98.515982</td>\n",
       "    </tr>\n",
       "    <tr>\n",
       "      <th>Injuries</th>\n",
       "      <td>777</td>\n",
       "      <td>88.698630</td>\n",
       "    </tr>\n",
       "    <tr>\n",
       "      <th>Injuries Description</th>\n",
       "      <td>753</td>\n",
       "      <td>85.958904</td>\n",
       "    </tr>\n",
       "    <tr>\n",
       "      <th>Damage ($Mil)</th>\n",
       "      <td>855</td>\n",
       "      <td>97.602740</td>\n",
       "    </tr>\n",
       "    <tr>\n",
       "      <th>Damage Description</th>\n",
       "      <td>631</td>\n",
       "      <td>72.031963</td>\n",
       "    </tr>\n",
       "    <tr>\n",
       "      <th>Houses Destroyed</th>\n",
       "      <td>832</td>\n",
       "      <td>94.977169</td>\n",
       "    </tr>\n",
       "    <tr>\n",
       "      <th>Houses Destroyed Description</th>\n",
       "      <td>754</td>\n",
       "      <td>86.073059</td>\n",
       "    </tr>\n",
       "    <tr>\n",
       "      <th>Total Deaths</th>\n",
       "      <td>414</td>\n",
       "      <td>47.260274</td>\n",
       "    </tr>\n",
       "    <tr>\n",
       "      <th>Total Death Description</th>\n",
       "      <td>282</td>\n",
       "      <td>32.191781</td>\n",
       "    </tr>\n",
       "    <tr>\n",
       "      <th>Total Missing</th>\n",
       "      <td>865</td>\n",
       "      <td>98.744292</td>\n",
       "    </tr>\n",
       "    <tr>\n",
       "      <th>Total Missing Description</th>\n",
       "      <td>862</td>\n",
       "      <td>98.401826</td>\n",
       "    </tr>\n",
       "    <tr>\n",
       "      <th>Total Injuries</th>\n",
       "      <td>774</td>\n",
       "      <td>88.356164</td>\n",
       "    </tr>\n",
       "    <tr>\n",
       "      <th>Total Injuries Description</th>\n",
       "      <td>744</td>\n",
       "      <td>84.931507</td>\n",
       "    </tr>\n",
       "    <tr>\n",
       "      <th>Total Damage ($Mil)</th>\n",
       "      <td>850</td>\n",
       "      <td>97.031963</td>\n",
       "    </tr>\n",
       "    <tr>\n",
       "      <th>Total Damage Description</th>\n",
       "      <td>611</td>\n",
       "      <td>69.748858</td>\n",
       "    </tr>\n",
       "    <tr>\n",
       "      <th>Total Houses Destroyed</th>\n",
       "      <td>823</td>\n",
       "      <td>93.949772</td>\n",
       "    </tr>\n",
       "    <tr>\n",
       "      <th>Total Houses Destroyed Description</th>\n",
       "      <td>727</td>\n",
       "      <td>82.990868</td>\n",
       "    </tr>\n",
       "  </tbody>\n",
       "</table>\n",
       "</div>"
      ],
      "text/plain": [
       "                                    Number of nulls  Percentage of nulls\n",
       "Year                                              0             0.000000\n",
       "Month                                           131            14.954338\n",
       "Day                                             191            21.803653\n",
       "Name                                              0             0.000000\n",
       "Location                                          0             0.000000\n",
       "Country                                           0             0.000000\n",
       "Latitude                                          0             0.000000\n",
       "Longitude                                         0             0.000000\n",
       "Elevation (m)                                     0             0.000000\n",
       "Type                                              0             0.000000\n",
       "VEI                                             175            19.977169\n",
       "Agent                                           362            41.324201\n",
       "Deaths                                          436            49.771689\n",
       "Death Description                               308            35.159817\n",
       "Missing                                         865            98.744292\n",
       "Missing Description                             863            98.515982\n",
       "Injuries                                        777            88.698630\n",
       "Injuries Description                            753            85.958904\n",
       "Damage ($Mil)                                   855            97.602740\n",
       "Damage Description                              631            72.031963\n",
       "Houses Destroyed                                832            94.977169\n",
       "Houses Destroyed Description                    754            86.073059\n",
       "Total Deaths                                    414            47.260274\n",
       "Total Death Description                         282            32.191781\n",
       "Total Missing                                   865            98.744292\n",
       "Total Missing Description                       862            98.401826\n",
       "Total Injuries                                  774            88.356164\n",
       "Total Injuries Description                      744            84.931507\n",
       "Total Damage ($Mil)                             850            97.031963\n",
       "Total Damage Description                        611            69.748858\n",
       "Total Houses Destroyed                          823            93.949772\n",
       "Total Houses Destroyed Description              727            82.990868"
      ]
     },
     "execution_count": 9,
     "metadata": {},
     "output_type": "execute_result"
    }
   ],
   "source": [
    "nulls = pd.DataFrame({\n",
    "    'Number of nulls': df.isnull().sum(),\n",
    "    'Percentage of nulls': ((df.isnull().sum() / len(df)) * 100)\n",
    "})\n",
    "nulls"
   ]
  },
  {
   "cell_type": "markdown",
   "id": "b3c475a8",
   "metadata": {},
   "source": [
    "Given that there are a lot of columns with null values, we will drop the columns that have over 50% of its values missing"
   ]
  },
  {
   "cell_type": "code",
   "execution_count": 10,
   "id": "b3e49b6d",
   "metadata": {},
   "outputs": [
    {
     "data": {
      "text/plain": [
       "['Missing',\n",
       " 'Missing Description',\n",
       " 'Injuries',\n",
       " 'Injuries Description',\n",
       " 'Damage ($Mil)',\n",
       " 'Damage Description',\n",
       " 'Houses Destroyed',\n",
       " 'Houses Destroyed Description',\n",
       " 'Total Missing',\n",
       " 'Total Missing Description',\n",
       " 'Total Injuries',\n",
       " 'Total Injuries Description',\n",
       " 'Total Damage ($Mil)',\n",
       " 'Total Damage Description',\n",
       " 'Total Houses Destroyed',\n",
       " 'Total Houses Destroyed Description']"
      ]
     },
     "execution_count": 10,
     "metadata": {},
     "output_type": "execute_result"
    }
   ],
   "source": [
    "cols_to_drop = [column for column, percentage in zip(nulls.index, nulls['Percentage of nulls']) if percentage > 50]\n",
    "cols_to_drop"
   ]
  },
  {
   "cell_type": "code",
   "execution_count": 11,
   "id": "ae5e9bb4",
   "metadata": {},
   "outputs": [],
   "source": [
    "df.drop(cols_to_drop, axis = 1, inplace = True)"
   ]
  },
  {
   "cell_type": "code",
   "execution_count": 12,
   "id": "7a4e442d",
   "metadata": {},
   "outputs": [
    {
     "data": {
      "text/html": [
       "<div>\n",
       "<style scoped>\n",
       "    .dataframe tbody tr th:only-of-type {\n",
       "        vertical-align: middle;\n",
       "    }\n",
       "\n",
       "    .dataframe tbody tr th {\n",
       "        vertical-align: top;\n",
       "    }\n",
       "\n",
       "    .dataframe thead th {\n",
       "        text-align: right;\n",
       "    }\n",
       "</style>\n",
       "<table border=\"1\" class=\"dataframe\">\n",
       "  <thead>\n",
       "    <tr style=\"text-align: right;\">\n",
       "      <th></th>\n",
       "      <th>Number of nulls</th>\n",
       "      <th>Percentage of nulls</th>\n",
       "    </tr>\n",
       "  </thead>\n",
       "  <tbody>\n",
       "    <tr>\n",
       "      <th>Year</th>\n",
       "      <td>0</td>\n",
       "      <td>0.000000</td>\n",
       "    </tr>\n",
       "    <tr>\n",
       "      <th>Month</th>\n",
       "      <td>131</td>\n",
       "      <td>14.954338</td>\n",
       "    </tr>\n",
       "    <tr>\n",
       "      <th>Day</th>\n",
       "      <td>191</td>\n",
       "      <td>21.803653</td>\n",
       "    </tr>\n",
       "    <tr>\n",
       "      <th>Name</th>\n",
       "      <td>0</td>\n",
       "      <td>0.000000</td>\n",
       "    </tr>\n",
       "    <tr>\n",
       "      <th>Location</th>\n",
       "      <td>0</td>\n",
       "      <td>0.000000</td>\n",
       "    </tr>\n",
       "    <tr>\n",
       "      <th>Country</th>\n",
       "      <td>0</td>\n",
       "      <td>0.000000</td>\n",
       "    </tr>\n",
       "    <tr>\n",
       "      <th>Latitude</th>\n",
       "      <td>0</td>\n",
       "      <td>0.000000</td>\n",
       "    </tr>\n",
       "    <tr>\n",
       "      <th>Longitude</th>\n",
       "      <td>0</td>\n",
       "      <td>0.000000</td>\n",
       "    </tr>\n",
       "    <tr>\n",
       "      <th>Elevation (m)</th>\n",
       "      <td>0</td>\n",
       "      <td>0.000000</td>\n",
       "    </tr>\n",
       "    <tr>\n",
       "      <th>Type</th>\n",
       "      <td>0</td>\n",
       "      <td>0.000000</td>\n",
       "    </tr>\n",
       "    <tr>\n",
       "      <th>VEI</th>\n",
       "      <td>175</td>\n",
       "      <td>19.977169</td>\n",
       "    </tr>\n",
       "    <tr>\n",
       "      <th>Agent</th>\n",
       "      <td>362</td>\n",
       "      <td>41.324201</td>\n",
       "    </tr>\n",
       "    <tr>\n",
       "      <th>Deaths</th>\n",
       "      <td>436</td>\n",
       "      <td>49.771689</td>\n",
       "    </tr>\n",
       "    <tr>\n",
       "      <th>Death Description</th>\n",
       "      <td>308</td>\n",
       "      <td>35.159817</td>\n",
       "    </tr>\n",
       "    <tr>\n",
       "      <th>Total Deaths</th>\n",
       "      <td>414</td>\n",
       "      <td>47.260274</td>\n",
       "    </tr>\n",
       "    <tr>\n",
       "      <th>Total Death Description</th>\n",
       "      <td>282</td>\n",
       "      <td>32.191781</td>\n",
       "    </tr>\n",
       "  </tbody>\n",
       "</table>\n",
       "</div>"
      ],
      "text/plain": [
       "                         Number of nulls  Percentage of nulls\n",
       "Year                                   0             0.000000\n",
       "Month                                131            14.954338\n",
       "Day                                  191            21.803653\n",
       "Name                                   0             0.000000\n",
       "Location                               0             0.000000\n",
       "Country                                0             0.000000\n",
       "Latitude                               0             0.000000\n",
       "Longitude                              0             0.000000\n",
       "Elevation (m)                          0             0.000000\n",
       "Type                                   0             0.000000\n",
       "VEI                                  175            19.977169\n",
       "Agent                                362            41.324201\n",
       "Deaths                               436            49.771689\n",
       "Death Description                    308            35.159817\n",
       "Total Deaths                         414            47.260274\n",
       "Total Death Description              282            32.191781"
      ]
     },
     "execution_count": 12,
     "metadata": {},
     "output_type": "execute_result"
    }
   ],
   "source": [
    "nulls_new = pd.DataFrame({\n",
    "    'Number of nulls': df.isnull().sum(),\n",
    "    'Percentage of nulls': ((df.isnull().sum() / len(df)) * 100)\n",
    "})\n",
    "nulls_new"
   ]
  },
  {
   "cell_type": "markdown",
   "id": "dc9987a4",
   "metadata": {},
   "source": [
    "There are some columns here that still have a lot of missing values. Lets investigate these"
   ]
  },
  {
   "cell_type": "code",
   "execution_count": 13,
   "id": "b77aa597",
   "metadata": {},
   "outputs": [
    {
     "data": {
      "text/plain": [
       "['Agent',\n",
       " 'Deaths',\n",
       " 'Death Description',\n",
       " 'Total Deaths',\n",
       " 'Total Death Description']"
      ]
     },
     "execution_count": 13,
     "metadata": {},
     "output_type": "execute_result"
    }
   ],
   "source": [
    "cols_to_investigate = [column for column, percentage in zip(nulls_new.index, nulls_new['Percentage of nulls']) if percentage > 30]\n",
    "cols_to_investigate"
   ]
  },
  {
   "cell_type": "code",
   "execution_count": 14,
   "id": "8d56a32d",
   "metadata": {},
   "outputs": [
    {
     "data": {
      "text/html": [
       "<div>\n",
       "<style scoped>\n",
       "    .dataframe tbody tr th:only-of-type {\n",
       "        vertical-align: middle;\n",
       "    }\n",
       "\n",
       "    .dataframe tbody tr th {\n",
       "        vertical-align: top;\n",
       "    }\n",
       "\n",
       "    .dataframe thead th {\n",
       "        text-align: right;\n",
       "    }\n",
       "</style>\n",
       "<table border=\"1\" class=\"dataframe\">\n",
       "  <thead>\n",
       "    <tr style=\"text-align: right;\">\n",
       "      <th></th>\n",
       "      <th>Deaths</th>\n",
       "      <th>Death Description</th>\n",
       "      <th>Total Deaths</th>\n",
       "      <th>Total Death Description</th>\n",
       "    </tr>\n",
       "  </thead>\n",
       "  <tbody>\n",
       "    <tr>\n",
       "      <th>count</th>\n",
       "      <td>440.000000</td>\n",
       "      <td>568.000000</td>\n",
       "      <td>462.000000</td>\n",
       "      <td>594.000000</td>\n",
       "    </tr>\n",
       "    <tr>\n",
       "      <th>mean</th>\n",
       "      <td>441.675000</td>\n",
       "      <td>1.558099</td>\n",
       "      <td>722.826840</td>\n",
       "      <td>1.612795</td>\n",
       "    </tr>\n",
       "    <tr>\n",
       "      <th>std</th>\n",
       "      <td>2421.846221</td>\n",
       "      <td>0.966897</td>\n",
       "      <td>4137.443373</td>\n",
       "      <td>1.003319</td>\n",
       "    </tr>\n",
       "    <tr>\n",
       "      <th>min</th>\n",
       "      <td>1.000000</td>\n",
       "      <td>1.000000</td>\n",
       "      <td>1.000000</td>\n",
       "      <td>1.000000</td>\n",
       "    </tr>\n",
       "    <tr>\n",
       "      <th>25%</th>\n",
       "      <td>1.000000</td>\n",
       "      <td>1.000000</td>\n",
       "      <td>2.000000</td>\n",
       "      <td>1.000000</td>\n",
       "    </tr>\n",
       "    <tr>\n",
       "      <th>50%</th>\n",
       "      <td>5.000000</td>\n",
       "      <td>1.000000</td>\n",
       "      <td>6.000000</td>\n",
       "      <td>1.000000</td>\n",
       "    </tr>\n",
       "    <tr>\n",
       "      <th>75%</th>\n",
       "      <td>48.250000</td>\n",
       "      <td>2.000000</td>\n",
       "      <td>60.000000</td>\n",
       "      <td>2.000000</td>\n",
       "    </tr>\n",
       "    <tr>\n",
       "      <th>max</th>\n",
       "      <td>30000.000000</td>\n",
       "      <td>4.000000</td>\n",
       "      <td>60000.000000</td>\n",
       "      <td>4.000000</td>\n",
       "    </tr>\n",
       "  </tbody>\n",
       "</table>\n",
       "</div>"
      ],
      "text/plain": [
       "             Deaths  Death Description  Total Deaths  Total Death Description\n",
       "count    440.000000         568.000000    462.000000               594.000000\n",
       "mean     441.675000           1.558099    722.826840                 1.612795\n",
       "std     2421.846221           0.966897   4137.443373                 1.003319\n",
       "min        1.000000           1.000000      1.000000                 1.000000\n",
       "25%        1.000000           1.000000      2.000000                 1.000000\n",
       "50%        5.000000           1.000000      6.000000                 1.000000\n",
       "75%       48.250000           2.000000     60.000000                 2.000000\n",
       "max    30000.000000           4.000000  60000.000000                 4.000000"
      ]
     },
     "execution_count": 14,
     "metadata": {},
     "output_type": "execute_result"
    }
   ],
   "source": [
    "df[cols_to_investigate].describe()"
   ]
  },
  {
   "cell_type": "markdown",
   "id": "3ba3cec8",
   "metadata": {},
   "source": [
    "#### Upon reading the dataset documentation, we find out the following information:\n",
    "- Variable 'Death' is the amount of people that died from the volcanic eruption\n",
    "- Variable 'Total Deaths' is the amount of people that died from the volcanic eruption + secondary effects\n",
    "- The logic for 'Death' and 'Total Death' description is the same\n",
    "- Since the 'Description' variables are providing almost the same information as the actual death toll variables and have similar number of missing values we will drop them"
   ]
  },
  {
   "cell_type": "code",
   "execution_count": 15,
   "id": "e34cdd70",
   "metadata": {},
   "outputs": [],
   "source": [
    "df.drop(['Death Description', 'Total Death Description'], axis = 1, inplace = True)"
   ]
  },
  {
   "cell_type": "markdown",
   "id": "890f0b44",
   "metadata": {},
   "source": [
    "After doing this general EDA on the dataset, the first question popped into my head:"
   ]
  },
  {
   "cell_type": "markdown",
   "id": "cea799fa",
   "metadata": {},
   "source": [
    "# How many people die from the actual eruption and how many people die from secondary effects on average?"
   ]
  },
  {
   "cell_type": "markdown",
   "id": "bf5be169",
   "metadata": {},
   "source": [
    "- I would like to check if, for all values where there are no nulls in both columns, there is a major difference in the deaths from the volcano versus the deaths from the volcano + secondary effects\n",
    "- In order to do so I must first clear the nulls\n",
    "- Instead of just blindly dropping the nulls I want to check first if there is a correlation in the nulls between both columns. That means, if it is common that whenever there is a null in 'Deaths' there is also a null in 'Total Deaths'. Basically this would be calculating the conditional probability:\n",
    "- P(null in 'Deaths' | 'Total Deaths' is null) and P(null in 'Total Deaths' | 'Deaths' is null)\n",
    "- Ideally, we would want high conditional probabilities, meaning that whenever one is null then the other one is also null. This would allow us to confidently drop the null rows without suffering too much information loss"
   ]
  },
  {
   "cell_type": "code",
   "execution_count": 16,
   "id": "ac725a59",
   "metadata": {},
   "outputs": [
    {
     "name": "stdout",
     "output_type": "stream",
     "text": [
      "436 instances out of total 876 instances where we only have null values for column 'Deaths'\n",
      "414 instances out of total 876 instances where we only have null values for column 'Total Deaths'\n",
      "Probability of 'Total Deaths' being null given that 'Deaths' is null: 94.50%\n",
      "Probability of 'Deaths' being null given that 'Total Deaths' is null: 99.52%\n"
     ]
    }
   ],
   "source": [
    "sec_effects = df[['Deaths', 'Total Deaths']]\n",
    "deaths_only_null = sec_effects.loc[sec_effects['Deaths'].isnull(), :]\n",
    "total_deaths_only_null = sec_effects.loc[sec_effects['Total Deaths'].isnull(), :]\n",
    "both_null = sec_effects.loc[(sec_effects['Total Deaths'].isnull()) & (sec_effects['Deaths'].isnull()), :]\n",
    "\n",
    "print(f\"{deaths_only_null.shape[0]} instances out of total {sec_effects.shape[0]} instances where we only have null values for column 'Deaths'\")\n",
    "print(f\"{total_deaths_only_null.shape[0]} instances out of total {sec_effects.shape[0]} instances where we only have null values for column 'Total Deaths'\")\n",
    "\n",
    "contingency_table = pd.crosstab(df['Deaths'].isnull(), df['Total Deaths'].isnull(), margins=True, margins_name='Total')\n",
    "\n",
    "probability_total_deaths_given_deaths_null = contingency_table.loc[True, True] / contingency_table.loc[True, 'Total']\n",
    "probability_deaths_given_total_deaths_null = contingency_table.loc[True, True] / contingency_table.loc['Total', True]\n",
    "\n",
    "print(f\"Probability of 'Total Deaths' being null given that 'Deaths' is null: {probability_total_deaths_given_deaths_null:.2%}\")\n",
    "print(f\"Probability of 'Deaths' being null given that 'Total Deaths' is null: {probability_deaths_given_total_deaths_null:.2%}\")\n"
   ]
  },
  {
   "cell_type": "markdown",
   "id": "954bbedb",
   "metadata": {},
   "source": [
    "Luckily for us, there is a very high probability that if one column is null, then the value in the other column is also null\n",
    "\n",
    "Had we gotten low probabilities, we would have needed to find a way around this because dropping nulls would mean a very significant amount of information loss"
   ]
  },
  {
   "cell_type": "code",
   "execution_count": 17,
   "id": "0a4f320b",
   "metadata": {},
   "outputs": [],
   "source": [
    "sec_effects_clean = sec_effects.dropna(axis = 0)"
   ]
  },
  {
   "cell_type": "code",
   "execution_count": 18,
   "id": "c2151044",
   "metadata": {},
   "outputs": [
    {
     "data": {
      "text/plain": [
       "Deaths          443.684932\n",
       "Total Deaths    652.961187\n",
       "dtype: float64"
      ]
     },
     "execution_count": 18,
     "metadata": {},
     "output_type": "execute_result"
    }
   ],
   "source": [
    "sec_effects_clean.mean()"
   ]
  },
  {
   "cell_type": "code",
   "execution_count": 19,
   "id": "663647cb",
   "metadata": {},
   "outputs": [
    {
     "data": {
      "image/png": "[encoded data removed]",
      "text/plain": [
       "<Figure size 1500x400 with 1 Axes>"
      ]
     },
     "metadata": {},
     "output_type": "display_data"
    }
   ],
   "source": [
    "plt.figure(figsize = (15,4))\n",
    "sns.scatterplot(x = 'Deaths', y = 'Total Deaths', data = sec_effects_clean)\n",
    "plt.plot([sec_effects_clean['Deaths'].min(), sec_effects_clean['Deaths'].max()], \n",
    "         [sec_effects_clean['Deaths'].min(), sec_effects_clean['Deaths'].max()], \n",
    "         linestyle='--', color='red', label='45-degree line')\n",
    "plt.legend()\n",
    "plt.xlabel('Amount of deaths from volcanic eruption')\n",
    "plt.ylabel('Amount of deaths from volcanic eruption + secondary effects')\n",
    "\n",
    "plt.show()"
   ]
  },
  {
   "cell_type": "markdown",
   "id": "46f7156d",
   "metadata": {},
   "source": [
    "Something very interesting happens here\n",
    "- If we had focused only on the average values for both variables, then we would have initially thought that secondary effects played a very significant role in the total toll of a volcanic eruption (secondary effects add an extra 50% more deaths)\n",
    "- However, if we plot a scatter plot between the two variables, we can see that most of the points lie on the 45 degree line\n",
    "- What this means is that there is almost perfect correlation, and that the secondary effects usually do not kill anyone.\n",
    "- There are three outliers that have so many deaths from secondary effects that they are pushing the average up, almost tricking us into believing that for most cases secondary effects play a big role in the final death toll of a volcanic eruption\n",
    "- Basically, what this tells us is that, for the most part, we can utilize either 'Deaths' or 'Total Deaths' as our variable\n",
    "\n",
    "Before deciding on which variable to use, lets dig even deeper and look at these three outliers where the amount of deaths from secondary effects were significant"
   ]
  },
  {
   "cell_type": "markdown",
   "id": "cfb96606",
   "metadata": {},
   "source": [
    "# Outlier analysis"
   ]
  },
  {
   "cell_type": "code",
   "execution_count": 20,
   "id": "376e7291",
   "metadata": {},
   "outputs": [
    {
     "data": {
      "text/html": [
       "<div>\n",
       "<style scoped>\n",
       "    .dataframe tbody tr th:only-of-type {\n",
       "        vertical-align: middle;\n",
       "    }\n",
       "\n",
       "    .dataframe tbody tr th {\n",
       "        vertical-align: top;\n",
       "    }\n",
       "\n",
       "    .dataframe thead th {\n",
       "        text-align: right;\n",
       "    }\n",
       "</style>\n",
       "<table border=\"1\" class=\"dataframe\">\n",
       "  <thead>\n",
       "    <tr style=\"text-align: right;\">\n",
       "      <th></th>\n",
       "      <th>Year</th>\n",
       "      <th>Month</th>\n",
       "      <th>Day</th>\n",
       "      <th>Name</th>\n",
       "      <th>Location</th>\n",
       "      <th>Country</th>\n",
       "      <th>Latitude</th>\n",
       "      <th>Longitude</th>\n",
       "      <th>Elevation (m)</th>\n",
       "      <th>Type</th>\n",
       "      <th>VEI</th>\n",
       "      <th>Agent</th>\n",
       "      <th>Deaths</th>\n",
       "      <th>Total Deaths</th>\n",
       "    </tr>\n",
       "  </thead>\n",
       "  <tbody>\n",
       "    <tr>\n",
       "      <th>235</th>\n",
       "      <td>1815.0</td>\n",
       "      <td>4.0</td>\n",
       "      <td>10.0</td>\n",
       "      <td>Tambora</td>\n",
       "      <td>Lesser Sunda Is</td>\n",
       "      <td>Indonesia</td>\n",
       "      <td>-8.250</td>\n",
       "      <td>118.000</td>\n",
       "      <td>2850.0</td>\n",
       "      <td>Stratovolcano</td>\n",
       "      <td>7.0</td>\n",
       "      <td>P,W,A,I</td>\n",
       "      <td>11000.0</td>\n",
       "      <td>60000.0</td>\n",
       "    </tr>\n",
       "    <tr>\n",
       "      <th>339</th>\n",
       "      <td>1883.0</td>\n",
       "      <td>8.0</td>\n",
       "      <td>27.0</td>\n",
       "      <td>Krakatau</td>\n",
       "      <td>Indonesia</td>\n",
       "      <td>Indonesia</td>\n",
       "      <td>-6.102</td>\n",
       "      <td>105.423</td>\n",
       "      <td>155.0</td>\n",
       "      <td>Caldera</td>\n",
       "      <td>6.0</td>\n",
       "      <td>W,P,I</td>\n",
       "      <td>2000.0</td>\n",
       "      <td>36417.0</td>\n",
       "    </tr>\n",
       "    <tr>\n",
       "      <th>384</th>\n",
       "      <td>1902.0</td>\n",
       "      <td>10.0</td>\n",
       "      <td>25.0</td>\n",
       "      <td>Santa Maria</td>\n",
       "      <td>Guatemala</td>\n",
       "      <td>Guatemala</td>\n",
       "      <td>14.757</td>\n",
       "      <td>-91.552</td>\n",
       "      <td>3745.0</td>\n",
       "      <td>Stratovolcano</td>\n",
       "      <td>6.0</td>\n",
       "      <td>T,G</td>\n",
       "      <td>2500.0</td>\n",
       "      <td>10000.0</td>\n",
       "    </tr>\n",
       "    <tr>\n",
       "      <th>681</th>\n",
       "      <td>1991.0</td>\n",
       "      <td>6.0</td>\n",
       "      <td>15.0</td>\n",
       "      <td>Pinatubo</td>\n",
       "      <td>Luzon-Philippines</td>\n",
       "      <td>Philippines</td>\n",
       "      <td>15.130</td>\n",
       "      <td>120.350</td>\n",
       "      <td>1486.0</td>\n",
       "      <td>Stratovolcano</td>\n",
       "      <td>6.0</td>\n",
       "      <td>P,m,I</td>\n",
       "      <td>350.0</td>\n",
       "      <td>800.0</td>\n",
       "    </tr>\n",
       "  </tbody>\n",
       "</table>\n",
       "</div>"
      ],
      "text/plain": [
       "       Year  Month   Day         Name           Location      Country  \\\n",
       "235  1815.0    4.0  10.0      Tambora    Lesser Sunda Is    Indonesia   \n",
       "339  1883.0    8.0  27.0     Krakatau          Indonesia    Indonesia   \n",
       "384  1902.0   10.0  25.0  Santa Maria          Guatemala    Guatemala   \n",
       "681  1991.0    6.0  15.0     Pinatubo  Luzon-Philippines  Philippines   \n",
       "\n",
       "     Latitude  Longitude  Elevation (m)           Type  VEI    Agent   Deaths  \\\n",
       "235    -8.250    118.000         2850.0  Stratovolcano  7.0  P,W,A,I  11000.0   \n",
       "339    -6.102    105.423          155.0        Caldera  6.0    W,P,I   2000.0   \n",
       "384    14.757    -91.552         3745.0  Stratovolcano  6.0      T,G   2500.0   \n",
       "681    15.130    120.350         1486.0  Stratovolcano  6.0    P,m,I    350.0   \n",
       "\n",
       "     Total Deaths  \n",
       "235       60000.0  \n",
       "339       36417.0  \n",
       "384       10000.0  \n",
       "681         800.0  "
      ]
     },
     "execution_count": 20,
     "metadata": {},
     "output_type": "execute_result"
    }
   ],
   "source": [
    "sec_deaths_outliers = df.loc[df['Total Deaths'] - df['Deaths'] > 200, :]\n",
    "sec_deaths_outliers"
   ]
  },
  {
   "cell_type": "markdown",
   "id": "91b4dcc9",
   "metadata": {},
   "source": [
    "Lets talk a little bit about each of these four catastrophic eruptions:"
   ]
  },
  {
   "cell_type": "markdown",
   "id": "b27378bd",
   "metadata": {},
   "source": [
    "### Tambora\n",
    "- The most devastating eruption of the last 2000 years\n",
    "- Led to what was known as 'The Year without Summer' (1816) as temperatures dropped by an average of 0.5 degrees celsius across the world\n",
    "- Temperature cooldown translated into colder summers, which resulted in poor harvests. This meant that a lot of people died from famine and diseases\n",
    "- Volcanic Eruption Index (VEI) of 7 out of 8\n",
    "\n",
    "### Krakatau\n",
    "- Produced the largest sound ever recorded (a staggering 310 dB)\n",
    "- The fourth and final explosion released a rain of hot ash which killed at least 4,000 people\n",
    "- The huge chunks of pyrochlastic flow which were expelled from the eruption fell into the sea, generating tsunamis of similar masses and significantly increasing the death toll\n",
    "\n",
    "### Santa Maria\n",
    "- The third most devastating eruption of the last 200 years\n",
    "- Left many Guatemalan cities in complete darkness for more than two days\n",
    "- Pumice flows, ash-rain and pyrochlastic flow, in addition to the poor preparation of the Guatemalan population, greatly increased the final death toll\n",
    "\n",
    "### Pinatubo\n",
    "- The second largest eruption of the 20th century\n",
    "- Produced \"The summer that Wasnt\" in the US due to the travelling volcanic ash\n",
    "- The cost to agriculture of eruption effects was estimated to be 1.5 billion pesos"
   ]
  },
  {
   "cell_type": "markdown",
   "id": "e0cce24f",
   "metadata": {},
   "source": [
    "Before moving on to the next question, lets perform some extra preprocessing\n",
    " - Drop 'Agent', 'Month' and 'Day' variables as we dont really need them\n",
    " - Drop 'Location' as it is basically the same as the 'Country' variable\n",
    " - Drop rows where both 'Deaths' and 'Total Deaths' are missing and whenever one is missing and the other is not replace the missing value with the value of the other column\n"
   ]
  },
  {
   "cell_type": "code",
   "execution_count": 21,
   "id": "3fc591e5",
   "metadata": {},
   "outputs": [],
   "source": [
    "df.drop(['Month', 'Day', 'Agent', 'Location'], axis = 1, inplace = True)\n",
    "\n",
    "df.dropna(subset=['Deaths', 'Total Deaths'], how='all', inplace=True)\n",
    "df['Deaths'].fillna(df['Total Deaths'], inplace = True)\n",
    "df['Total Deaths'].fillna(df['Deaths'], inplace = True)"
   ]
  },
  {
   "cell_type": "markdown",
   "id": "d3e094b3",
   "metadata": {},
   "source": [
    "Lets re-check the amount of missing values in the dataframe now:"
   ]
  },
  {
   "cell_type": "code",
   "execution_count": 22,
   "id": "f1e6868c",
   "metadata": {},
   "outputs": [
    {
     "data": {
      "text/plain": [
       "Year              0.000000\n",
       "Name              0.000000\n",
       "Country           0.000000\n",
       "Latitude          0.000000\n",
       "Longitude         0.000000\n",
       "Elevation (m)     0.000000\n",
       "Type              0.000000\n",
       "VEI              20.474138\n",
       "Deaths            0.000000\n",
       "Total Deaths      0.000000\n",
       "dtype: float64"
      ]
     },
     "execution_count": 22,
     "metadata": {},
     "output_type": "execute_result"
    }
   ],
   "source": [
    "(df.isnull().sum()/len(df)) * 100"
   ]
  },
  {
   "cell_type": "markdown",
   "id": "d3fef0f3",
   "metadata": {},
   "source": [
    "Since VEI has around 20% of missing values, one thing we could do is train a Machine Learning model to predict VEI values. This is something that will be done later on in the notebook. For now, lets just focus on uncovering some insights in our data\n",
    "\n",
    "At this point, after reading the description of each eruption, a second question rised:"
   ]
  },
  {
   "cell_type": "markdown",
   "id": "10685de2",
   "metadata": {},
   "source": [
    "# Which type of volcano eruptions (from 'Type') results in higher deaths?"
   ]
  },
  {
   "cell_type": "markdown",
   "id": "265b7005",
   "metadata": {},
   "source": [
    "In order to answer this, we will do the following: \n",
    "- Given that 'Type' has around 10 different values, we will group all of the values with low frequency under 'Others'"
   ]
  },
  {
   "cell_type": "code",
   "execution_count": 23,
   "id": "f561b186",
   "metadata": {},
   "outputs": [
    {
     "data": {
      "text/plain": [
       "Stratovolcano         312\n",
       "Complex volcano        61\n",
       "Caldera                32\n",
       "Shield volcano         28\n",
       "Lava dome               7\n",
       "Pyroclastic shield      6\n",
       "Fissure vent            3\n",
       "Submarine volcano       3\n",
       "Tuff cone               3\n",
       "Cinder cone             2\n",
       "Compound volcano        2\n",
       "Maar                    2\n",
       "Subglacial volcano      1\n",
       "Pyroclastic cone        1\n",
       "Crater rows             1\n",
       "Name: Type, dtype: int64"
      ]
     },
     "execution_count": 23,
     "metadata": {},
     "output_type": "execute_result"
    }
   ],
   "source": [
    "df['Type'].value_counts()"
   ]
  },
  {
   "cell_type": "code",
   "execution_count": 24,
   "id": "1c07ed40",
   "metadata": {},
   "outputs": [],
   "source": [
    "others = ['Fissure vent',\n",
    "       'Subglacial volcano', 'Pyroclastic shield',\n",
    "       'Lava dome', 'Cinder cone', 'Submarine volcano',\n",
    "       'Compound volcano', 'Pyroclastic cone', 'Tuff cone', 'Maar',\n",
    "       'Crater rows']\n",
    "\n",
    "df['Type'] = np.where(df['Type'].isin(others), 'Others', df['Type'])\n"
   ]
  },
  {
   "cell_type": "code",
   "execution_count": 25,
   "id": "0c3fff5d",
   "metadata": {},
   "outputs": [
    {
     "data": {
      "image/png": "[encoded data removed]",
      "text/plain": [
       "<Figure size 1500x500 with 1 Axes>"
      ]
     },
     "metadata": {},
     "output_type": "display_data"
    }
   ],
   "source": [
    "plt.figure(figsize=(15, 5))\n",
    "sns.barplot(data=df, x='Type', y='Deaths', color='blue', alpha=0.7, label='Deaths')\n",
    "sns.barplot(data=df, x='Type', y='Total Deaths', color='grey', alpha=0.7, label='Total Deaths')\n",
    "\n",
    "plt.legend()\n",
    "plt.ylabel('Deaths')\n",
    "plt.xlabel('Volcano type')\n",
    "plt.title('Comparison of Deaths and Total Deaths by Type')\n",
    "\n",
    "plt.show()"
   ]
  },
  {
   "cell_type": "markdown",
   "id": "287397d0",
   "metadata": {},
   "source": [
    "Lets briefly talk about the types of Volcanos"
   ]
  },
  {
   "cell_type": "markdown",
   "id": "ecbf5060",
   "metadata": {},
   "source": [
    "### Stratovolcanos:\n",
    "- High and steep volcanos\n",
    "- The shape is given by the highly viscous lava that flows down from its peak\n",
    "- Eruptions are usually explosive, and gases flow upwards\n",
    "- These volcanos usually exhibit multiple eruptions and are dangerous due to their explosiveness and amount of pyroclastic deposits and lava flows\n",
    "- Mount Fuji in Japan is an example of a Stratovolcano\n",
    "\n",
    "### Calderas:\n",
    "- These are formed after volcanic eruptions literally blow the top off the mountain\n",
    "- These, if they are deemed as 'Explosive' yield the strongest and most explosive volcanic eruptions\n",
    "- These volcanos exhibit multiple eruptions and are very dangerous if active\n",
    "- Yellowstone National Park is built on top of the Yellowstone Caldera\n",
    "\n",
    "### Shield volcanos\n",
    "- These are very large volcanos, and its shape is that of a shield\n",
    "- The shape is given by its non-viscous lava that flows from the summit and forms gentle slopes rapidly\n",
    "- These volcanos are not particularly dangerous given that they usually experience non-explosive eruptions\n",
    "- Mauna Loa and Kilauea in Hawaii are examples of famous shield volcanos\n",
    "\n",
    "### Complex volcanos:\n",
    "- Im gonna be honest here I dont know what 'Complex' volcano means specifically. As of my understanding it is a very broad concept"
   ]
  },
  {
   "cell_type": "markdown",
   "id": "775febd4",
   "metadata": {},
   "source": [
    "Having read this information, a new question popped into my head:"
   ]
  },
  {
   "cell_type": "markdown",
   "id": "6b8a894d",
   "metadata": {},
   "source": [
    "# Is there a way to diagnose which would be the most 'dangerous' volcano?\n",
    "- Bear in mind this question is specifically about volcanos, not eruptions"
   ]
  },
  {
   "cell_type": "markdown",
   "id": "e6e3f76c",
   "metadata": {},
   "source": [
    "###### To answer this question we will look at four dimensions:\n",
    "- Total amount of times each volcano has erupted\n",
    "- Average VEI value for each eruption\n",
    "- Median deaths caused by its eruptions (not average due to the fact that there might be outliers in death count due to historical constraints)\n",
    "- Year of last eruption"
   ]
  },
  {
   "cell_type": "code",
   "execution_count": 26,
   "id": "25389cc6",
   "metadata": {},
   "outputs": [],
   "source": [
    "volcano_stats = df.groupby('Name').agg({'VEI': 'mean', 'Total Deaths': 'median', 'Year': 'count'})\n",
    "volcano_stats.rename(columns={'Year': 'Eruptions'}, inplace=True)\n",
    "volcano_stats['Year of last eruption'] = df.groupby('Name')['Year'].max()\n",
    "\n",
    "# We will now filter only the volcanos that have erupted 5 or more times\n",
    "# This is because, given the fact that the dataset spreads over more than 6000 years, less than 5 eruptions could be\n",
    "# considered to be too few to be considered 'Dangerous' nowadays\n",
    "\n",
    "more_than_5_eruptions = volcano_stats.loc[volcano_stats['Eruptions'] > 4, :]"
   ]
  },
  {
   "cell_type": "markdown",
   "id": "46c1cb16",
   "metadata": {},
   "source": [
    "As you can see we have four different dimensions that we can look at to assess levels of danger for each volcano that erupted 5 or more times\n",
    "\n",
    "However, I feel like only looking at one of them has a lot of loss of information.\n",
    "- For example, what if we saw a volcano which had an average VEI of 5 but very low total deaths? Would that be considered dangerous? (Novarupta eruption in 1912 is a resembling example of this)\n",
    "- For this reason, I am going to be ambitious and try to construct a 'Danger Index' which considers the three dimensions at the same time\n",
    "\n",
    "In order to construct the index I will perform the following steps:"
   ]
  },
  {
   "cell_type": "markdown",
   "id": "fcd4f92f",
   "metadata": {},
   "source": [
    "1) Scale each variable to a range between 0 and 1 for consistency\n",
    "2) Manually handle missing values\n",
    "3) Provide equal weights to each variable given that I consider the four of them to be relevant when assessing danger levels\n",
    "4) Combine these into a single formula"
   ]
  },
  {
   "cell_type": "markdown",
   "id": "205b9e7d",
   "metadata": {},
   "source": [
    "### Scaling the data"
   ]
  },
  {
   "cell_type": "code",
   "execution_count": 27,
   "id": "499adae1",
   "metadata": {},
   "outputs": [],
   "source": [
    "def min_max_scaling(data):\n",
    "    min_val = data.min()\n",
    "    max_val = data.max()\n",
    "    scaled_data = (data - min_val) / (max_val - min_val)\n",
    "    return scaled_data\n",
    "\n",
    "scaled_more_than_5_eruptions = min_max_scaling(more_than_5_eruptions)"
   ]
  },
  {
   "cell_type": "markdown",
   "id": "cb169baf",
   "metadata": {},
   "source": [
    "### Missing values"
   ]
  },
  {
   "cell_type": "code",
   "execution_count": 28,
   "id": "bc3bdad9",
   "metadata": {},
   "outputs": [
    {
     "data": {
      "text/html": [
       "<div>\n",
       "<style scoped>\n",
       "    .dataframe tbody tr th:only-of-type {\n",
       "        vertical-align: middle;\n",
       "    }\n",
       "\n",
       "    .dataframe tbody tr th {\n",
       "        vertical-align: top;\n",
       "    }\n",
       "\n",
       "    .dataframe thead th {\n",
       "        text-align: right;\n",
       "    }\n",
       "</style>\n",
       "<table border=\"1\" class=\"dataframe\">\n",
       "  <thead>\n",
       "    <tr style=\"text-align: right;\">\n",
       "      <th></th>\n",
       "      <th>VEI</th>\n",
       "      <th>Total Deaths</th>\n",
       "      <th>Eruptions</th>\n",
       "      <th>Year of last eruption</th>\n",
       "    </tr>\n",
       "    <tr>\n",
       "      <th>Name</th>\n",
       "      <th></th>\n",
       "      <th></th>\n",
       "      <th></th>\n",
       "      <th></th>\n",
       "    </tr>\n",
       "  </thead>\n",
       "  <tbody>\n",
       "    <tr>\n",
       "      <th>Hakoneyama</th>\n",
       "      <td>NaN</td>\n",
       "      <td>2.0</td>\n",
       "      <td>5</td>\n",
       "      <td>1972.0</td>\n",
       "    </tr>\n",
       "    <tr>\n",
       "      <th>Sinabung</th>\n",
       "      <td>NaN</td>\n",
       "      <td>2.0</td>\n",
       "      <td>5</td>\n",
       "      <td>2016.0</td>\n",
       "    </tr>\n",
       "  </tbody>\n",
       "</table>\n",
       "</div>"
      ],
      "text/plain": [
       "            VEI  Total Deaths  Eruptions  Year of last eruption\n",
       "Name                                                           \n",
       "Hakoneyama  NaN           2.0          5                 1972.0\n",
       "Sinabung    NaN           2.0          5                 2016.0"
      ]
     },
     "execution_count": 28,
     "metadata": {},
     "output_type": "execute_result"
    }
   ],
   "source": [
    "nulls_danger = more_than_5_eruptions.loc[more_than_5_eruptions['VEI'].isna(), :]\n",
    "nulls_danger"
   ]
  },
  {
   "cell_type": "markdown",
   "id": "6295ad94",
   "metadata": {},
   "source": [
    "As we can see, both of these volcanos have very low median deaths and only erupted 5 times\n",
    "- I will drop these two as they are definitely not the most dangerous volcanos in the world"
   ]
  },
  {
   "cell_type": "code",
   "execution_count": 29,
   "id": "1afab776",
   "metadata": {},
   "outputs": [],
   "source": [
    "clean_scaled_more_than_5_eruptions = scaled_more_than_5_eruptions.dropna()"
   ]
  },
  {
   "cell_type": "markdown",
   "id": "1a8cbee6",
   "metadata": {},
   "source": [
    "### Assigning weights"
   ]
  },
  {
   "cell_type": "code",
   "execution_count": 30,
   "id": "10b77176",
   "metadata": {},
   "outputs": [],
   "source": [
    "weight_vei = 0.25\n",
    "weight_deaths = 0.25\n",
    "weight_freq = 0.25\n",
    "weight_year = 0.25"
   ]
  },
  {
   "cell_type": "markdown",
   "id": "65bd9259",
   "metadata": {},
   "source": [
    "### Create formula"
   ]
  },
  {
   "cell_type": "code",
   "execution_count": 31,
   "id": "26d71d85",
   "metadata": {},
   "outputs": [],
   "source": [
    "clean_scaled_more_than_5_eruptions['Danger Index'] = (clean_scaled_more_than_5_eruptions['VEI'] * weight_vei +\n",
    "                                               clean_scaled_more_than_5_eruptions['Total Deaths'] * weight_deaths + \n",
    "                                               clean_scaled_more_than_5_eruptions['Eruptions'] * weight_freq + \n",
    "                                               clean_scaled_more_than_5_eruptions['Year of last eruption'] * weight_year)\n"
   ]
  },
  {
   "cell_type": "code",
   "execution_count": 32,
   "id": "39b5d8cd",
   "metadata": {},
   "outputs": [],
   "source": [
    "top_4_most_dangerous = clean_scaled_more_than_5_eruptions.sort_values(by = 'Danger Index', ascending = False).head(4)"
   ]
  },
  {
   "cell_type": "code",
   "execution_count": 33,
   "id": "7c2eb283",
   "metadata": {},
   "outputs": [
    {
     "data": {
      "image/png": "[encoded data removed]",
      "text/plain": [
       "<Figure size 1500x500 with 1 Axes>"
      ]
     },
     "metadata": {},
     "output_type": "display_data"
    }
   ],
   "source": [
    "plt.figure(figsize=(15, 5))\n",
    "sns.barplot(y=top_4_most_dangerous.index, x = 'Danger Index',  data=top_4_most_dangerous, palette = 'Reds_r', dodge = False)\n",
    "plt.xlabel('Danger Index')\n",
    "plt.ylabel('Volcano')\n",
    "plt.title('Most dangerous volcanos')\n",
    "plt.show()"
   ]
  },
  {
   "cell_type": "code",
   "execution_count": 34,
   "id": "438d60b4",
   "metadata": {},
   "outputs": [],
   "source": [
    "big_four_list = top_4_most_dangerous.index\n",
    "big_four_df = more_than_5_eruptions.loc[more_than_5_eruptions.index.isin(big_four_list), :]"
   ]
  },
  {
   "cell_type": "code",
   "execution_count": 35,
   "id": "4f2c47ab",
   "metadata": {},
   "outputs": [],
   "source": [
    "scaled_big_four_df = min_max_scaling(big_four_df)"
   ]
  },
  {
   "cell_type": "code",
   "execution_count": 36,
   "id": "373586b3",
   "metadata": {},
   "outputs": [],
   "source": [
    "from math import pi\n",
    "def radar_plot(df):\n",
    "    \"\"\"Creates a radar plot using the cluster information in DataFrame\"\"\"\n",
    "    min_val = df.min().min()\n",
    "    max_val = df.max().max()\n",
    "    df_plot = df.T\n",
    "    # number of variables\n",
    "    categories=df_plot.index.to_list()\n",
    "    N = len(categories)\n",
    "\n",
    "    # What will be the angle of each axis in the plot? (we divide the plot / number of variable)\n",
    "    angles = [n / float(N) * 2 * pi for n in range(N)]\n",
    "    angles += angles[:1]\n",
    "\n",
    "    # Initialise the spider plot\n",
    "    ax = plt.subplot(111, polar=True)\n",
    "\n",
    "    # If you want the first axis to be on top:\n",
    "    ax.set_theta_offset(pi / 2)\n",
    "    ax.set_theta_direction(-1)\n",
    "\n",
    "    # Draw one ax per variable + add labels\n",
    "    plt.xticks(angles[:-1], categories)\n",
    "\n",
    "    # Draw ylabels\n",
    "    ax.set_rlabel_position(0)\n",
    "\n",
    "    plt.yticks([min_val + (max_val-min_val)*per for per in [.25,.5,.75]],labels=[.25,.5,.75], color=\"grey\", size=7)\n",
    "    plt.ylim(min_val,max_val)\n",
    "\n",
    "    # Plot each individual = each line of the data\n",
    "    n_vars = len(df_plot.columns)\n",
    "    line_colors = sns.color_palette(\"pastel\", n_colors = n_vars)\n",
    "    for i, cluster in enumerate(df_plot.columns):\n",
    "        values = df_plot[cluster].to_list()\n",
    "        values += values[:1]\n",
    "\n",
    "        ax.plot(angles, values, linewidth=1, linestyle='solid', label=cluster, color = line_colors[i])\n",
    "        ax.fill(angles, values, color = line_colors[i], alpha=0.1)\n",
    "\n",
    "    # Add legend\n",
    "    plt.legend(loc='upper right', bbox_to_anchor=(0.1, 0.1))"
   ]
  },
  {
   "cell_type": "code",
   "execution_count": 37,
   "id": "7f88a16c",
   "metadata": {},
   "outputs": [
    {
     "data": {
      "image/png": "[encoded data removed]",
      "text/plain": [
       "<Figure size 640x480 with 1 Axes>"
      ]
     },
     "metadata": {},
     "output_type": "display_data"
    }
   ],
   "source": [
    "radar_plot(scaled_big_four_df)"
   ]
  },
  {
   "cell_type": "markdown",
   "id": "0bf58352",
   "metadata": {},
   "source": [
    "Lets look at each volcano individually across the four mentions displayed above:"
   ]
  },
  {
   "cell_type": "markdown",
   "id": "09878943",
   "metadata": {},
   "source": [
    "#### Mount Awu\n",
    "- Possesses the highest amount of median deaths per eruption with a value of 1242.5\n",
    "- However, it is the volcano that has erupted the least over the past years, with only 6 eruptions\n",
    "- Its last eruption happened almost 60 years ago, back in 1966\n",
    "- The average VEI of its eruptions is of 3\n",
    "\n",
    "#### Mount Kelud\n",
    "- Highest average VEI per eruption with 3.6\n",
    "- 10 total amount of eruptions over the past 6000 years\n",
    "- Last eruption happened 10 years ago\n",
    "- Median value of 26.5 deaths per eruption\n",
    "\n",
    "#### Mount Merapi\n",
    "- Highest total amount of eruptions with 25 total eruptions\n",
    "- Last eruption happened in 2017, only 7 years ago\n",
    "- Median deaths per eruption value of 16\n",
    "- Average VEI of 2.65\n",
    "\n",
    "#### Mount Semeru\n",
    "- Most recent eruption (in 2021)\n",
    "- Average VEI of 2.66\n",
    "- Median deaths per eruption: 6\n",
    "- 18 total eruptions"
   ]
  },
  {
   "cell_type": "markdown",
   "id": "5c6bd7af",
   "metadata": {},
   "source": [
    "- Interestingly enough, each of the four volcanos ranks first in a different category\n",
    "- All in all, our Danger Index yields Mount Merapi as the most dangerous volcano given its high amount of eruptions and the recency in its last eruption\n",
    "- However, my attention drifted to Mount Awu and its staggering median of 1242.5 total deaths per eruption. This posed the following question:"
   ]
  },
  {
   "cell_type": "markdown",
   "id": "d724f809",
   "metadata": {},
   "source": [
    "# Why does Mount Awu kill so many people every time it erupts?"
   ]
  },
  {
   "cell_type": "markdown",
   "id": "64715d98",
   "metadata": {},
   "source": [
    "- Given that it does not have the highest average VEI per eruption, the answer is not so obvious\n",
    "- Yet another thing to consider is that the four volcanos listed above are all located in Indonesia, yet Mount Awu has a significantly higher death toll than the three other volcanos\n",
    "- Lets have a look at where each of these four volcanos are exactly located within Indonesia"
   ]
  },
  {
   "cell_type": "code",
   "execution_count": 38,
   "id": "9c6f1533",
   "metadata": {},
   "outputs": [
    {
     "data": {
      "text/html": [
       "<div style=\"width:100%;\"><div style=\"position:relative;width:100%;height:0;padding-bottom:60%;\"><span style=\"color:#565656\">Make this Notebook Trusted to load map: File -> Trust Notebook</span><iframe srcdoc=\"&lt;!DOCTYPE html&gt;\n",
       "&lt;html&gt;\n",
       "&lt;head&gt;\n",
       "    \n",
       "    &lt;meta http-equiv=&quot;content-type&quot; content=&quot;text/html; charset=UTF-8&quot; /&gt;\n",
       "    \n",
       "        &lt;script&gt;\n",
       "            L_NO_TOUCH = false;\n",
       "            L_DISABLE_3D = false;\n",
       "        &lt;/script&gt;\n",
       "    \n",
       "    &lt;style&gt;html, body {width: 100%;height: 100%;margin: 0;padding: 0;}&lt;/style&gt;\n",
       "    &lt;style&gt;#map {position:absolute;top:0;bottom:0;right:0;left:0;}&lt;/style&gt;\n",
       "    &lt;script src=&quot;https://cdn.jsdelivr.net/npm/leaflet@1.9.3/dist/leaflet.js&quot;&gt;&lt;/script&gt;\n",
       "    &lt;script src=&quot;https://code.jquery.com/jquery-3.7.1.min.js&quot;&gt;&lt;/script&gt;\n",
       "    &lt;script src=&quot;https://cdn.jsdelivr.net/npm/bootstrap@5.2.2/dist/js/bootstrap.bundle.min.js&quot;&gt;&lt;/script&gt;\n",
       "    &lt;script src=&quot;https://cdnjs.cloudflare.com/ajax/libs/Leaflet.awesome-markers/2.0.2/leaflet.awesome-markers.js&quot;&gt;&lt;/script&gt;\n",
       "    &lt;link rel=&quot;stylesheet&quot; href=&quot;https://cdn.jsdelivr.net/npm/leaflet@1.9.3/dist/leaflet.css&quot;/&gt;\n",
       "    &lt;link rel=&quot;stylesheet&quot; href=&quot;https://cdn.jsdelivr.net/npm/bootstrap@5.2.2/dist/css/bootstrap.min.css&quot;/&gt;\n",
       "    &lt;link rel=&quot;stylesheet&quot; href=&quot;https://netdna.bootstrapcdn.com/bootstrap/3.0.0/css/bootstrap.min.css&quot;/&gt;\n",
       "    &lt;link rel=&quot;stylesheet&quot; href=&quot;https://cdn.jsdelivr.net/npm/@fortawesome/fontawesome-free@6.2.0/css/all.min.css&quot;/&gt;\n",
       "    &lt;link rel=&quot;stylesheet&quot; href=&quot;https://cdnjs.cloudflare.com/ajax/libs/Leaflet.awesome-markers/2.0.2/leaflet.awesome-markers.css&quot;/&gt;\n",
       "    &lt;link rel=&quot;stylesheet&quot; href=&quot;https://cdn.jsdelivr.net/gh/python-visualization/folium/folium/templates/leaflet.awesome.rotate.min.css&quot;/&gt;\n",
       "    \n",
       "            &lt;meta name=&quot;viewport&quot; content=&quot;width=device-width,\n",
       "                initial-scale=1.0, maximum-scale=1.0, user-scalable=no&quot; /&gt;\n",
       "            &lt;style&gt;\n",
       "                #map_7e0e67d3171992c920f32a33f87f51af {\n",
       "                    position: relative;\n",
       "                    width: 100.0%;\n",
       "                    height: 100.0%;\n",
       "                    left: 0.0%;\n",
       "                    top: 0.0%;\n",
       "                }\n",
       "                .leaflet-container { font-size: 1rem; }\n",
       "            &lt;/style&gt;\n",
       "        \n",
       "&lt;/head&gt;\n",
       "&lt;body&gt;\n",
       "    \n",
       "    \n",
       "            &lt;div class=&quot;folium-map&quot; id=&quot;map_7e0e67d3171992c920f32a33f87f51af&quot; &gt;&lt;/div&gt;\n",
       "        \n",
       "&lt;/body&gt;\n",
       "&lt;script&gt;\n",
       "    \n",
       "    \n",
       "            var map_7e0e67d3171992c920f32a33f87f51af = L.map(\n",
       "                &quot;map_7e0e67d3171992c920f32a33f87f51af&quot;,\n",
       "                {\n",
       "                    center: [-6.2088, 106.8456],\n",
       "                    crs: L.CRS.EPSG3857,\n",
       "                    zoom: 5,\n",
       "                    zoomControl: true,\n",
       "                    preferCanvas: false,\n",
       "                }\n",
       "            );\n",
       "\n",
       "            \n",
       "\n",
       "        \n",
       "    \n",
       "            var tile_layer_c54a84ce78f378820cb7fdf5b96b6ba6 = L.tileLayer(\n",
       "                &quot;https://tile.openstreetmap.org/{z}/{x}/{y}.png&quot;,\n",
       "                {&quot;attribution&quot;: &quot;\\u0026copy; \\u003ca href=\\&quot;https://www.openstreetmap.org/copyright\\&quot;\\u003eOpenStreetMap\\u003c/a\\u003e contributors&quot;, &quot;detectRetina&quot;: false, &quot;maxNativeZoom&quot;: 19, &quot;maxZoom&quot;: 19, &quot;minZoom&quot;: 0, &quot;noWrap&quot;: false, &quot;opacity&quot;: 1, &quot;subdomains&quot;: &quot;abc&quot;, &quot;tms&quot;: false}\n",
       "            );\n",
       "        \n",
       "    \n",
       "            tile_layer_c54a84ce78f378820cb7fdf5b96b6ba6.addTo(map_7e0e67d3171992c920f32a33f87f51af);\n",
       "        \n",
       "    \n",
       "            var marker_086e000e5ca86d6faaefcdc78f241755 = L.marker(\n",
       "                [3.689, 125.447],\n",
       "                {}\n",
       "            ).addTo(map_7e0e67d3171992c920f32a33f87f51af);\n",
       "        \n",
       "    \n",
       "            var icon_f6660fdfb61803617cc3946939792500 = L.AwesomeMarkers.icon(\n",
       "                {&quot;extraClasses&quot;: &quot;fa-rotate-0&quot;, &quot;icon&quot;: &quot;info-sign&quot;, &quot;iconColor&quot;: &quot;white&quot;, &quot;markerColor&quot;: &quot;blue&quot;, &quot;prefix&quot;: &quot;glyphicon&quot;}\n",
       "            );\n",
       "            marker_086e000e5ca86d6faaefcdc78f241755.setIcon(icon_f6660fdfb61803617cc3946939792500);\n",
       "        \n",
       "    \n",
       "        var popup_62a5605a0cdfc7722720afe8fc030e2d = L.popup({&quot;maxWidth&quot;: &quot;100%&quot;});\n",
       "\n",
       "        \n",
       "            \n",
       "                var html_9ea70923805332a7af3ba8b4fa79ff65 = $(`&lt;div id=&quot;html_9ea70923805332a7af3ba8b4fa79ff65&quot; style=&quot;width: 100.0%; height: 100.0%;&quot;&gt;Awu&lt;/div&gt;`)[0];\n",
       "                popup_62a5605a0cdfc7722720afe8fc030e2d.setContent(html_9ea70923805332a7af3ba8b4fa79ff65);\n",
       "            \n",
       "        \n",
       "\n",
       "        marker_086e000e5ca86d6faaefcdc78f241755.bindPopup(popup_62a5605a0cdfc7722720afe8fc030e2d)\n",
       "        ;\n",
       "\n",
       "        \n",
       "    \n",
       "    \n",
       "            var marker_0fa92c2afa8cb8b06f5d60ad1d5c7e5b = L.marker(\n",
       "                [-7.54, 110.446],\n",
       "                {}\n",
       "            ).addTo(map_7e0e67d3171992c920f32a33f87f51af);\n",
       "        \n",
       "    \n",
       "            var icon_c1f7672ebc520cac246af8cdf56e31e2 = L.AwesomeMarkers.icon(\n",
       "                {&quot;extraClasses&quot;: &quot;fa-rotate-0&quot;, &quot;icon&quot;: &quot;info-sign&quot;, &quot;iconColor&quot;: &quot;white&quot;, &quot;markerColor&quot;: &quot;blue&quot;, &quot;prefix&quot;: &quot;glyphicon&quot;}\n",
       "            );\n",
       "            marker_0fa92c2afa8cb8b06f5d60ad1d5c7e5b.setIcon(icon_c1f7672ebc520cac246af8cdf56e31e2);\n",
       "        \n",
       "    \n",
       "        var popup_9e0a97f0ee929fa0e634e378d11b794e = L.popup({&quot;maxWidth&quot;: &quot;100%&quot;});\n",
       "\n",
       "        \n",
       "            \n",
       "                var html_58b7da7c8549743426aa7d870ab7840c = $(`&lt;div id=&quot;html_58b7da7c8549743426aa7d870ab7840c&quot; style=&quot;width: 100.0%; height: 100.0%;&quot;&gt;Merapi&lt;/div&gt;`)[0];\n",
       "                popup_9e0a97f0ee929fa0e634e378d11b794e.setContent(html_58b7da7c8549743426aa7d870ab7840c);\n",
       "            \n",
       "        \n",
       "\n",
       "        marker_0fa92c2afa8cb8b06f5d60ad1d5c7e5b.bindPopup(popup_9e0a97f0ee929fa0e634e378d11b794e)\n",
       "        ;\n",
       "\n",
       "        \n",
       "    \n",
       "    \n",
       "            var marker_24c54626430531c0f4104c9e4b2f7b06 = L.marker(\n",
       "                [-8.108, 112.922],\n",
       "                {}\n",
       "            ).addTo(map_7e0e67d3171992c920f32a33f87f51af);\n",
       "        \n",
       "    \n",
       "            var icon_9f6bcc1fd7fc00fc050bfc8e66246f87 = L.AwesomeMarkers.icon(\n",
       "                {&quot;extraClasses&quot;: &quot;fa-rotate-0&quot;, &quot;icon&quot;: &quot;info-sign&quot;, &quot;iconColor&quot;: &quot;white&quot;, &quot;markerColor&quot;: &quot;blue&quot;, &quot;prefix&quot;: &quot;glyphicon&quot;}\n",
       "            );\n",
       "            marker_24c54626430531c0f4104c9e4b2f7b06.setIcon(icon_9f6bcc1fd7fc00fc050bfc8e66246f87);\n",
       "        \n",
       "    \n",
       "        var popup_5fb2cc90e14e5e6a12f3b8318202523a = L.popup({&quot;maxWidth&quot;: &quot;100%&quot;});\n",
       "\n",
       "        \n",
       "            \n",
       "                var html_a856b582462889765b3cf2019ac85fb4 = $(`&lt;div id=&quot;html_a856b582462889765b3cf2019ac85fb4&quot; style=&quot;width: 100.0%; height: 100.0%;&quot;&gt;Semeru&lt;/div&gt;`)[0];\n",
       "                popup_5fb2cc90e14e5e6a12f3b8318202523a.setContent(html_a856b582462889765b3cf2019ac85fb4);\n",
       "            \n",
       "        \n",
       "\n",
       "        marker_24c54626430531c0f4104c9e4b2f7b06.bindPopup(popup_5fb2cc90e14e5e6a12f3b8318202523a)\n",
       "        ;\n",
       "\n",
       "        \n",
       "    \n",
       "    \n",
       "            var marker_8009e99fb19e4e09d3e90c28b6469c13 = L.marker(\n",
       "                [-7.935, 112.314],\n",
       "                {}\n",
       "            ).addTo(map_7e0e67d3171992c920f32a33f87f51af);\n",
       "        \n",
       "    \n",
       "            var icon_72cf6081c821c0a5bb8202d7d1b82c1c = L.AwesomeMarkers.icon(\n",
       "                {&quot;extraClasses&quot;: &quot;fa-rotate-0&quot;, &quot;icon&quot;: &quot;info-sign&quot;, &quot;iconColor&quot;: &quot;white&quot;, &quot;markerColor&quot;: &quot;blue&quot;, &quot;prefix&quot;: &quot;glyphicon&quot;}\n",
       "            );\n",
       "            marker_8009e99fb19e4e09d3e90c28b6469c13.setIcon(icon_72cf6081c821c0a5bb8202d7d1b82c1c);\n",
       "        \n",
       "    \n",
       "        var popup_9507dae7a63f976dddf4576781b36a9a = L.popup({&quot;maxWidth&quot;: &quot;100%&quot;});\n",
       "\n",
       "        \n",
       "            \n",
       "                var html_1690adfd0fb5f5665b5e498bd0ae5f6e = $(`&lt;div id=&quot;html_1690adfd0fb5f5665b5e498bd0ae5f6e&quot; style=&quot;width: 100.0%; height: 100.0%;&quot;&gt;Kelud&lt;/div&gt;`)[0];\n",
       "                popup_9507dae7a63f976dddf4576781b36a9a.setContent(html_1690adfd0fb5f5665b5e498bd0ae5f6e);\n",
       "            \n",
       "        \n",
       "\n",
       "        marker_8009e99fb19e4e09d3e90c28b6469c13.bindPopup(popup_9507dae7a63f976dddf4576781b36a9a)\n",
       "        ;\n",
       "\n",
       "        \n",
       "    \n",
       "&lt;/script&gt;\n",
       "&lt;/html&gt;\" style=\"position:absolute;width:100%;height:100%;left:0;top:0;border:none !important;\" allowfullscreen webkitallowfullscreen mozallowfullscreen></iframe></div></div>"
      ],
      "text/plain": [
       "<folium.folium.Map at 0x1f524b46ef0>"
      ]
     },
     "execution_count": 38,
     "metadata": {},
     "output_type": "execute_result"
    }
   ],
   "source": [
    "awu_coords = tuple(df.loc[df['Name'] == 'Awu', ['Latitude', 'Longitude']].head(1).values.flatten())\n",
    "merapi_coords = tuple(df.loc[df['Name'] == 'Merapi', ['Latitude', 'Longitude']].head(1).values.flatten())\n",
    "semeru_coords = tuple(df.loc[df['Name'] == 'Semeru', ['Latitude', 'Longitude']].head(1).values.flatten())\n",
    "kelud_coords = tuple(df.loc[df['Name'] == 'Kelud', ['Latitude', 'Longitude']].head(1).values.flatten())\n",
    "\n",
    "coords = {\n",
    "    'Awu': awu_coords, 'Merapi': merapi_coords, 'Semeru': semeru_coords,\n",
    "    'Kelud': kelud_coords\n",
    "         }\n",
    "\n",
    "import folium\n",
    "\n",
    "map_center_indonesia = [-6.2088, 106.8456]  # Latitude and longitude of Jakarta\n",
    "\n",
    "volcanos = folium.Map(location=map_center_indonesia, zoom_start=5)\n",
    "\n",
    "# Loop through the dictionary to add markers for each location\n",
    "for volcano, coords in coords.items():\n",
    "    latitude, longitude = coords \n",
    "    folium.Marker(\n",
    "        location=[latitude, longitude],\n",
    "        popup=volcano,\n",
    "        icon=folium.Icon(color='blue')\n",
    "    ).add_to(volcanos)\n",
    "\n",
    "volcanos"
   ]
  },
  {
   "cell_type": "markdown",
   "id": "b0bff62a",
   "metadata": {},
   "source": [
    "We find something interesting here: while Mount Merapi, Mount Kelud and Mount Semeru are located on the island of Java, Mount Awu is located up north on the Sangihe island in the North Sulawesi peninsula\n",
    "- As we know, the island of Java is one of the main islands in Indonesia given its high population density and vast amount of resources\n",
    "- On the other side, Sangihe island is not particularly as resourceful as Java\n",
    "- My hypothesis here is that Sangihe is significantly less prepared for volcanic activity than Java is, therefore each eruption is much more costly in terms of death toll\n",
    "- If we consider that Mount Awu has erupted the least (6 times) amongst the most dangerous volcanos while Merapi and Semeru have erupted a combined amount of 43 times over the past few years, it makes sense that Java is much more well prepared than Sangihe\n",
    "- Lets take a deeper look at each Mount Awu eruption"
   ]
  },
  {
   "cell_type": "code",
   "execution_count": 39,
   "id": "b28ad57c",
   "metadata": {},
   "outputs": [],
   "source": [
    "awu = df.loc[df['Name'] == 'Awu', :]\n",
    "awu['Year'] = pd.to_datetime(awu['Year'], format='%Y')\n",
    "awu['Year'] = awu['Year'].dt.year"
   ]
  },
  {
   "cell_type": "code",
   "execution_count": 40,
   "id": "715d93ac",
   "metadata": {},
   "outputs": [
    {
     "data": {
      "image/png": "[encoded data removed]",
      "text/plain": [
       "<Figure size 1600x500 with 1 Axes>"
      ]
     },
     "metadata": {},
     "output_type": "display_data"
    }
   ],
   "source": [
    "awu['Year'] = pd.to_datetime(awu['Year'], format='%Y')\n",
    "awu['Year'] = awu['Year'].dt.year\n",
    "\n",
    "plt.figure(figsize=(16, 5))\n",
    "ax = sns.barplot(x='Year', y='Total Deaths', data=awu, palette = 'Blues')\n",
    "\n",
    "for bar, vei in zip(ax.patches, awu['VEI']):\n",
    "    ax.text(bar.get_x() + bar.get_width() / 2, bar.get_height() + 20, \n",
    "            f'VEI {vei}', \n",
    "            ha='center', va='bottom', fontsize=10, color='black')\n",
    "\n",
    "plt.xlabel('Year')\n",
    "plt.ylabel('Total deaths per eruption')\n",
    "plt.title('Total amount of deaths per eruption over time')\n",
    "plt.show()"
   ]
  },
  {
   "cell_type": "markdown",
   "id": "5e99c448",
   "metadata": {},
   "source": [
    "- Fortunately for all Sangihe locals looking at this notebook, it seems that they have implemented some measures to diminish the devastating consequences of Mount Awu's eruptions, as total deaths have reduced after more recent eruptions\n",
    "- It is also worth noting that the last eruption in 1966 had the lowest amount of deaths. On top of that, this last eruption had a VEI of 4. Once again, good job on reducing the impact of the eruption island of Sangihe!"
   ]
  },
  {
   "cell_type": "markdown",
   "id": "c6433ac1",
   "metadata": {},
   "source": [
    "# VEI predictive model"
   ]
  },
  {
   "cell_type": "markdown",
   "id": "adae0453",
   "metadata": {},
   "source": [
    "- As we get to the end of the notebook, I would like to go a bit further than just analyzing the data\n",
    "- Given that about 20% of the VEI values are missing in our dataset, it looks like the stage is set for us to create a Machine Learning model to predict the missing VEI values by training the model on the present 80%\n",
    "- Disclaimer: since the focus of this notebook is on data analysis, I am not looking to find the best-performing model here. I will be testing out three basic models, each being based on different structures (Logistic Regression: linear model, Decision Tree: tree-based model, Random Forest: ensemble model)\n",
    "- Once we get the results of these three beforementioned models, we will perform some extra analysis using feature importance and SHAP to determine how each variable affects the result"
   ]
  },
  {
   "cell_type": "code",
   "execution_count": 41,
   "id": "0e63f8fa",
   "metadata": {},
   "outputs": [],
   "source": [
    "df_temp1 = df.copy()\n",
    "df_vei_check = df.copy()"
   ]
  },
  {
   "cell_type": "markdown",
   "id": "660a5e3c",
   "metadata": {},
   "source": [
    "### Preprocessing"
   ]
  },
  {
   "cell_type": "code",
   "execution_count": 42,
   "id": "ceb87852",
   "metadata": {},
   "outputs": [
    {
     "data": {
      "text/html": [
       "<div>\n",
       "<style scoped>\n",
       "    .dataframe tbody tr th:only-of-type {\n",
       "        vertical-align: middle;\n",
       "    }\n",
       "\n",
       "    .dataframe tbody tr th {\n",
       "        vertical-align: top;\n",
       "    }\n",
       "\n",
       "    .dataframe thead th {\n",
       "        text-align: right;\n",
       "    }\n",
       "</style>\n",
       "<table border=\"1\" class=\"dataframe\">\n",
       "  <thead>\n",
       "    <tr style=\"text-align: right;\">\n",
       "      <th></th>\n",
       "      <th>Year</th>\n",
       "      <th>Name</th>\n",
       "      <th>Country</th>\n",
       "      <th>Latitude</th>\n",
       "      <th>Longitude</th>\n",
       "      <th>Elevation (m)</th>\n",
       "      <th>Type</th>\n",
       "      <th>VEI</th>\n",
       "      <th>Deaths</th>\n",
       "      <th>Total Deaths</th>\n",
       "    </tr>\n",
       "  </thead>\n",
       "  <tbody>\n",
       "    <tr>\n",
       "      <th>24</th>\n",
       "      <td>-141.0</td>\n",
       "      <td>Etna</td>\n",
       "      <td>Italy</td>\n",
       "      <td>37.748</td>\n",
       "      <td>14.999</td>\n",
       "      <td>3357.0</td>\n",
       "      <td>Stratovolcano</td>\n",
       "      <td>NaN</td>\n",
       "      <td>40.0</td>\n",
       "      <td>40.0</td>\n",
       "    </tr>\n",
       "    <tr>\n",
       "      <th>30</th>\n",
       "      <td>79.0</td>\n",
       "      <td>Vesuvius</td>\n",
       "      <td>Italy</td>\n",
       "      <td>40.821</td>\n",
       "      <td>14.426</td>\n",
       "      <td>1281.0</td>\n",
       "      <td>Complex volcano</td>\n",
       "      <td>5.0</td>\n",
       "      <td>2100.0</td>\n",
       "      <td>2100.0</td>\n",
       "    </tr>\n",
       "    <tr>\n",
       "      <th>36</th>\n",
       "      <td>450.0</td>\n",
       "      <td>Ilopango</td>\n",
       "      <td>El Salvador</td>\n",
       "      <td>13.672</td>\n",
       "      <td>-89.053</td>\n",
       "      <td>450.0</td>\n",
       "      <td>Caldera</td>\n",
       "      <td>6.0</td>\n",
       "      <td>30000.0</td>\n",
       "      <td>30000.0</td>\n",
       "    </tr>\n",
       "  </tbody>\n",
       "</table>\n",
       "</div>"
      ],
      "text/plain": [
       "     Year      Name      Country  Latitude  Longitude  Elevation (m)  \\\n",
       "24 -141.0      Etna        Italy    37.748     14.999         3357.0   \n",
       "30   79.0  Vesuvius        Italy    40.821     14.426         1281.0   \n",
       "36  450.0  Ilopango  El Salvador    13.672    -89.053          450.0   \n",
       "\n",
       "               Type  VEI   Deaths  Total Deaths  \n",
       "24    Stratovolcano  NaN     40.0          40.0  \n",
       "30  Complex volcano  5.0   2100.0        2100.0  \n",
       "36          Caldera  6.0  30000.0       30000.0  "
      ]
     },
     "execution_count": 42,
     "metadata": {},
     "output_type": "execute_result"
    }
   ],
   "source": [
    "df_temp1.head(3)"
   ]
  },
  {
   "cell_type": "markdown",
   "id": "a0df6985",
   "metadata": {},
   "source": [
    "##### Variables to drop:\n",
    "- Name: extremely high cardinality\n",
    "- Country: high cardinality + latitude and longitude variables provide same information\n",
    "- Deaths: we have to drop one of the 'deaths' variable to avoid the high correlation between them\n",
    "\n",
    "##### Variables to transform:\n",
    "- Type: we will encode them using a manual mapping. As we have previously seen, some values appear less than 10 times. We will group those into an 'Other' category\n",
    "\n",
    "##### Variables to scale:\n",
    "- Year\n",
    "- Latitude\n",
    "- Longitude\n",
    "- Elevation\n",
    "- Total deaths"
   ]
  },
  {
   "cell_type": "code",
   "execution_count": 43,
   "id": "61a17fb4",
   "metadata": {},
   "outputs": [],
   "source": [
    "# Dropping variables\n",
    "df_temp1.drop(['Name', 'Country', 'Deaths'], axis = 1, inplace = True)"
   ]
  },
  {
   "cell_type": "code",
   "execution_count": 44,
   "id": "fab28c9a",
   "metadata": {},
   "outputs": [],
   "source": [
    "# One-hot encoding variables\n",
    "df_temp1 = pd.get_dummies(df_temp1, columns=['Type'], prefix='Type', drop_first = True)"
   ]
  },
  {
   "cell_type": "code",
   "execution_count": 45,
   "id": "685e7107",
   "metadata": {},
   "outputs": [],
   "source": [
    "# Scaling variables\n",
    "df_temp_scaled = min_max_scaling(df_temp1.drop('VEI', axis = 1))"
   ]
  },
  {
   "cell_type": "markdown",
   "id": "9260f5d4",
   "metadata": {},
   "source": [
    "Then we create our train and test sets"
   ]
  },
  {
   "cell_type": "code",
   "execution_count": 46,
   "id": "c8d0592d",
   "metadata": {},
   "outputs": [],
   "source": [
    "missing_vei_indices = df[df['VEI'].isnull()].index\n",
    "test_set = df_temp1.loc[missing_vei_indices]\n",
    "train_set = df_temp1.drop(missing_vei_indices)"
   ]
  },
  {
   "cell_type": "markdown",
   "id": "f9d40923",
   "metadata": {},
   "source": [
    "Now we assign each set our feature matrix and label matrix"
   ]
  },
  {
   "cell_type": "code",
   "execution_count": 47,
   "id": "b3dca29e",
   "metadata": {},
   "outputs": [],
   "source": [
    "X_train = train_set.drop('VEI', axis = 1)\n",
    "y_train = train_set['VEI']\n",
    "\n",
    "X_test = test_set.drop('VEI', axis = 1)\n",
    "y_test = test_set['VEI']"
   ]
  },
  {
   "cell_type": "markdown",
   "id": "4316ad26",
   "metadata": {},
   "source": [
    "Lets set up our model"
   ]
  },
  {
   "cell_type": "code",
   "execution_count": 48,
   "id": "eabd6e63",
   "metadata": {},
   "outputs": [],
   "source": [
    "from sklearn.ensemble import RandomForestClassifier"
   ]
  },
  {
   "cell_type": "code",
   "execution_count": 49,
   "id": "7993dd96",
   "metadata": {},
   "outputs": [],
   "source": [
    "random_forest = RandomForestClassifier(random_state = 42)\n",
    "random_forest.fit(X_train, y_train)\n",
    "predictions = random_forest.predict(X_test)\n",
    "missing_vei_indices = df[df['VEI'].isnull()].index\n",
    "df.loc[missing_vei_indices, 'VEI'] = predictions"
   ]
  },
  {
   "cell_type": "markdown",
   "id": "4e592048",
   "metadata": {},
   "source": [
    "- Lets see go back and check the strongest eruptions by VEI"
   ]
  },
  {
   "cell_type": "code",
   "execution_count": 50,
   "id": "59740ff1",
   "metadata": {},
   "outputs": [],
   "source": [
    "missing_vei_indices = df_vei_check[df_vei_check['VEI'].isna()].index"
   ]
  },
  {
   "cell_type": "code",
   "execution_count": 51,
   "id": "b047d091",
   "metadata": {
    "scrolled": true
   },
   "outputs": [
    {
     "data": {
      "text/html": [
       "<div>\n",
       "<style scoped>\n",
       "    .dataframe tbody tr th:only-of-type {\n",
       "        vertical-align: middle;\n",
       "    }\n",
       "\n",
       "    .dataframe tbody tr th {\n",
       "        vertical-align: top;\n",
       "    }\n",
       "\n",
       "    .dataframe thead th {\n",
       "        text-align: right;\n",
       "    }\n",
       "</style>\n",
       "<table border=\"1\" class=\"dataframe\">\n",
       "  <thead>\n",
       "    <tr style=\"text-align: right;\">\n",
       "      <th></th>\n",
       "      <th>Name</th>\n",
       "      <th>VEI</th>\n",
       "      <th>Year</th>\n",
       "    </tr>\n",
       "  </thead>\n",
       "  <tbody>\n",
       "    <tr>\n",
       "      <th>833</th>\n",
       "      <td>Dieng Volcanic Complex</td>\n",
       "      <td>1.0</td>\n",
       "      <td>2017.0</td>\n",
       "    </tr>\n",
       "    <tr>\n",
       "      <th>834</th>\n",
       "      <td>Campi Flegrei</td>\n",
       "      <td>2.0</td>\n",
       "      <td>2017.0</td>\n",
       "    </tr>\n",
       "    <tr>\n",
       "      <th>836</th>\n",
       "      <td>Merapi</td>\n",
       "      <td>2.0</td>\n",
       "      <td>2017.0</td>\n",
       "    </tr>\n",
       "    <tr>\n",
       "      <th>861</th>\n",
       "      <td>Ijen</td>\n",
       "      <td>2.0</td>\n",
       "      <td>2020.0</td>\n",
       "    </tr>\n",
       "    <tr>\n",
       "      <th>875</th>\n",
       "      <td>Marapi</td>\n",
       "      <td>2.0</td>\n",
       "      <td>2023.0</td>\n",
       "    </tr>\n",
       "    <tr>\n",
       "      <th>876</th>\n",
       "      <td>Reykjanes</td>\n",
       "      <td>3.0</td>\n",
       "      <td>2023.0</td>\n",
       "    </tr>\n",
       "  </tbody>\n",
       "</table>\n",
       "</div>"
      ],
      "text/plain": [
       "                       Name  VEI    Year\n",
       "833  Dieng Volcanic Complex  1.0  2017.0\n",
       "834           Campi Flegrei  2.0  2017.0\n",
       "836                  Merapi  2.0  2017.0\n",
       "861                    Ijen  2.0  2020.0\n",
       "875                  Marapi  2.0  2023.0\n",
       "876               Reykjanes  3.0  2023.0"
      ]
     },
     "execution_count": 51,
     "metadata": {},
     "output_type": "execute_result"
    }
   ],
   "source": [
    "df.loc[missing_vei_indices][['Name', 'VEI', 'Year']].tail(6)"
   ]
  },
  {
   "cell_type": "markdown",
   "id": "7296c7dc",
   "metadata": {},
   "source": [
    "- To test if our model is working correctly, lets grab a random eruption which did not have the VEI value before and google its VEI\n",
    "- For example, our model predicted the Dieng Volcanic Complex 2017 eruption to have a VEI of 1\n",
    "- Upon research, the Dieng Volcanic Complex eruption was a very minor explosion in Indonesia categorized as a Phreatic eruption. Phreatic eruptions usually have a VEI between 0 and 2"
   ]
  },
  {
   "cell_type": "code",
   "execution_count": 52,
   "id": "5ea0dc7b",
   "metadata": {},
   "outputs": [
    {
     "data": {
      "image/png": "[encoded data removed]",
      "text/plain": [
       "<Figure size 1500x500 with 1 Axes>"
      ]
     },
     "metadata": {},
     "output_type": "display_data"
    }
   ],
   "source": [
    "importances = random_forest.feature_importances_\n",
    "feature_names = X_train.columns\n",
    "indices = np.argsort(importances)[::-1]\n",
    "\n",
    "plt.figure(figsize=(15, 5))\n",
    "plt.title(\"Feature Importances\")\n",
    "plt.bar(range(X_train.shape[1]), importances[indices], align=\"center\")\n",
    "plt.xticks(range(X_train.shape[1]), feature_names[indices], rotation=90)\n",
    "plt.xlim([-1, X_train.shape[1]])\n",
    "plt.xlabel(\"Feature\")\n",
    "plt.ylabel(\"Importance\")\n",
    "plt.tight_layout()\n",
    "plt.show()\n"
   ]
  },
  {
   "cell_type": "markdown",
   "id": "8bc3e36f",
   "metadata": {},
   "source": [
    "Something does not feel right here. If we think about this logically these should not have a direct relation at all since the time of the eruption should not influence its strength\n",
    "\n",
    "Lets try to find the answer for the following question:"
   ]
  },
  {
   "cell_type": "markdown",
   "id": "5bf70c67",
   "metadata": {},
   "source": [
    "# How can the time of the eruption be a good predictor of the VEI?"
   ]
  },
  {
   "cell_type": "code",
   "execution_count": 53,
   "id": "aac33ca6",
   "metadata": {},
   "outputs": [
    {
     "data": {
      "image/png": "[encoded data removed]",
      "text/plain": [
       "<Figure size 1500x600 with 1 Axes>"
      ]
     },
     "metadata": {},
     "output_type": "display_data"
    }
   ],
   "source": [
    "plt.figure(figsize=(15, 6))\n",
    "sns.scatterplot(x='Year', y='VEI', data=df)\n",
    "plt.title('Correlation between VEI and Year')\n",
    "plt.xlabel('Year')\n",
    "plt.ylabel('VEI')\n",
    "plt.grid(True)\n",
    "plt.show()"
   ]
  },
  {
   "cell_type": "code",
   "execution_count": 54,
   "id": "63a25986",
   "metadata": {},
   "outputs": [
    {
     "name": "stdout",
     "output_type": "stream",
     "text": [
      "Correlation coefficient between Year of eruption and VEI is -0.29\n"
     ]
    }
   ],
   "source": [
    "correlation_coef = df['Year'].corr(df['VEI'])\n",
    "print(f'Correlation coefficient between Year of eruption and VEI is {correlation_coef:.2f}')"
   ]
  },
  {
   "cell_type": "markdown",
   "id": "9c9ec1b8",
   "metadata": {},
   "source": [
    "- One would think that volcanic eruptions have gotten 'softer' in more recent years if we only looked at the correlation number\n",
    "- However, if we look at the scatter plot we can see that not only we do not have a lot of data points from the very early years, but also we do not have any volcanic eruption with a VEI below 3\n",
    "- If we think this through, one VERY likely hypothesis is that historical records as not as precise as nowadays\n",
    "- It would make sense that, given the amount of time that has passed, it is very difficult to discover that there has been an eruption over 500 years ago. And this especially holds for the eruptions that were not as explosive as the others\n",
    "- This would solve the mystery of the feature importance graph: when the model identifies an eruption that happened a very long time ago, it is more likely to assign it a higher VEI value because that is the pattern that it has been trained on\n",
    "- If we were to gather a more precise and voluminous dataset we would probably find that the year of the eruption is not necessarily a good identifier of the VEI"
   ]
  },
  {
   "cell_type": "markdown",
   "id": "ad6469ed",
   "metadata": {},
   "source": [
    "# Conclusion"
   ]
  },
  {
   "cell_type": "markdown",
   "id": "2761a65f",
   "metadata": {},
   "source": [
    "This marks the end of the notebook\n",
    "\n",
    "Lets do a recap of the questions that appeared and its answers:\n",
    "\n",
    "#### How many people die from the actual eruption and how many people die from secondary effects on average?\n",
    "- Based on this dataset, there are only a handful of eruptions which had a lot of deaths due to secondary effects (Tambora, Krakatau, Santa Maria and Pinatubo)\n",
    "\n",
    "#### Which type of volcano eruptions (from 'Type') results in higher deaths?\n",
    "- Calderas first and in second place come the Stratovolcanos\n",
    "\n",
    "#### Is there a way to diagnose which is the most 'dangerous' volcano?\n",
    "- After creating our 'Danger index' we came to the conclusion that Mount Merapi is the most dangerous volcano due to its very frequent and recent eruptions\n",
    "\n",
    "#### Why does Mount Awu kill so many people every time it erupts?\n",
    "- My hypothesis is that, given its location in Sangihe island in the North Sulawesi Peninsula, the eruptions kill more people due to the island's lack of preparation and resources\n",
    "\n",
    "#### How can the time of the eruption be a good predictor of the VEI?\n",
    "- After plotting some graphs, we realize that there are not a lot of recorded eruptions for the earlier years (year 1000 and before), therefore we can deduce that only the very notorious/clear eruptions can be identified today (VEI of 3 or more only as minor eruptions do not leave a significant trace)\n",
    "- For this reason, whenever the model identifies that the eruption happened a very very long time ago (lets say on year 500), it will probably predict a higher VEI"
   ]
  },
  {
   "cell_type": "markdown",
   "id": "2a70682a",
   "metadata": {},
   "source": [
    "# Disclaimer/notebook limitations"
   ]
  },
  {
   "cell_type": "markdown",
   "id": "acf5f32f",
   "metadata": {},
   "source": [
    "- As previously mentioned, this is not the cleanest of all datasets. I tried to use this one in order to practice my data preprocessing skills\n",
    "- I could have tried to perform some sort of mean/median imputation for the rows with missing 'Deaths' and 'Total deaths' values, but given that 50% of the data was missing I felt like that was a very large amount  of missing values to do so\n",
    "- I could have also done a group-wise mean imputation, but the amount of cases for most of the combinations of variables where less than 10, therefore I did not find it suitable and I decided to just drop all missing values instead\n",
    "- There are other questions I have regarding the data that I could have asked, but for the sake of this notebook not being too long I decided to just do 5 questions\n",
    "- As you can tell, I am not putting too much focus on the model (just tested one model only, no hyperparameter tuning, no feature engineering). This is because the main focus of this notebook is on the data analysis part"
   ]
  },
  {
   "cell_type": "markdown",
   "id": "76ca9199",
   "metadata": {},
   "source": [
    "# Thank you very much for reading, hope you enjoyed!"
   ]
  }
 ],
 "metadata": {
  "kernelspec": {
   "display_name": "Python 3 (ipykernel)",
   "language": "python",
   "name": "python3"
  },
  "language_info": {
   "codemirror_mode": {
    "name": "ipython",
    "version": 3
   },
   "file_extension": ".py",
   "mimetype": "text/x-python",
   "name": "python",
   "nbconvert_exporter": "python",
   "pygments_lexer": "ipython3",
   "version": "3.10.9"
  }
 },
 "nbformat": 4,
 "nbformat_minor": 5
}
